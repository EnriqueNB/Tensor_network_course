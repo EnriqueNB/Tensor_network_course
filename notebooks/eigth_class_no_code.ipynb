{
 "cells": [
  {
   "cell_type": "markdown",
   "id": "729f0beb",
   "metadata": {},
   "source": [
    "# Optimizing over product states\n",
    "Now that we have checked that there are operators and states whose description is much cheaper than the normal description (remember that the $W$ state required bond dimension $2$ independently on the number of spins) we are ready to study the optimization of state directly described by Tensor network ansatz.\n",
    "The simple class of such states are product states, as we saw in the first lecture. \n",
    "\n",
    "We will try to find the ground state of a system with PBC in term of a product state. Thus we can use the invariance under tranaslation to argue that the product state will be of the form \n",
    " $$ |\\psi  \\rangle = \\otimes^N |\\phi \\rangle $$\n",
    " \n",
    " So let's start defining our initial state. We will define it as a random rotation by an Hermitian matrix applied on the top of the state $|0\\rangle$"
   ]
  },
  {
   "cell_type": "code",
   "execution_count": null,
   "id": "6cd8c805",
   "metadata": {},
   "outputs": [],
   "source": []
  },
  {
   "cell_type": "markdown",
   "id": "819dcd04",
   "metadata": {},
   "source": [
    "Now given the product state we need a function that computes the energy"
   ]
  },
  {
   "cell_type": "code",
   "execution_count": null,
   "id": "c988644f",
   "metadata": {},
   "outputs": [],
   "source": []
  },
  {
   "cell_type": "markdown",
   "id": "1bd2b560",
   "metadata": {},
   "source": [
    "We now are almost there, we can define a function that given the correct number of parameters builds the correct state and returns the energy. Since the operator is Hermitian, we only need 6 real parameters,"
   ]
  },
  {
   "cell_type": "code",
   "execution_count": null,
   "id": "35c51c9e",
   "metadata": {},
   "outputs": [],
   "source": []
  },
  {
   "cell_type": "code",
   "execution_count": null,
   "id": "51031d4d",
   "metadata": {},
   "outputs": [],
   "source": []
  },
  {
   "cell_type": "markdown",
   "id": "1a50bdec",
   "metadata": {},
   "source": [
    "Now let's try to optimize the energy in such a way that we get the lowest possible value on our ansatz of product state. Compute the energy as a function of the external field for say 20 points in the interval $\\lambda \\in \\{0,2\\}$, set $N=10$ to start with "
   ]
  },
  {
   "cell_type": "code",
   "execution_count": null,
   "id": "287f5087",
   "metadata": {},
   "outputs": [],
   "source": []
  },
  {
   "cell_type": "markdown",
   "id": "27f4a32b",
   "metadata": {},
   "source": [
    "## Understanding the results\n",
    "We can now plot the resulting energies. It is interesting to see that while the real energy depends on $N$ in a non-trivial way (you can check that it goes like $E = e_0 N -e_1/N +\\cdots $ the dependence of the energy on $N$ for a product state is trivially $E_p =e_{p0} N$ and there are no further corrections...\n",
    "We start by plottingh the exact energies and the variational one on the same plot, for various $\\lambda$"
   ]
  },
  {
   "cell_type": "code",
   "execution_count": null,
   "id": "5223087c",
   "metadata": {},
   "outputs": [],
   "source": []
  },
  {
   "cell_type": "markdown",
   "id": "15800117",
   "metadata": {},
   "source": [
    "Now let's check their difference"
   ]
  },
  {
   "cell_type": "code",
   "execution_count": null,
   "id": "0c4ae657",
   "metadata": {},
   "outputs": [],
   "source": []
  },
  {
   "cell_type": "markdown",
   "id": "30477d72",
   "metadata": {},
   "source": [
    "Now let's consider correlations. Focus of simplicity on $\\lambda =1$.First let's compute in the exact state\n",
    "\n",
    "$$ cO(i,j) =\\langle O_i O_j \\rangle -\\langle O_i \\rangle \\langle O_j \\rangle $$.\n",
    "Notice that the only relevant thing is $|i-j|$ due to the translational invariance property of the problem \n"
   ]
  },
  {
   "cell_type": "code",
   "execution_count": null,
   "id": "060ee995",
   "metadata": {},
   "outputs": [],
   "source": []
  },
  {
   "cell_type": "code",
   "execution_count": null,
   "id": "4cd1f94b",
   "metadata": {},
   "outputs": [],
   "source": []
  },
  {
   "cell_type": "markdown",
   "id": "cc9b14c6",
   "metadata": {},
   "source": [
    "What do you expect it to be in a product state?"
   ]
  },
  {
   "cell_type": "code",
   "execution_count": null,
   "id": "7f8fa856",
   "metadata": {},
   "outputs": [],
   "source": []
  },
  {
   "cell_type": "code",
   "execution_count": null,
   "id": "b6209bdf",
   "metadata": {},
   "outputs": [],
   "source": []
  }
 ],
 "metadata": {
  "kernelspec": {
   "display_name": "Python 3 (ipykernel)",
   "language": "python",
   "name": "python3"
  },
  "language_info": {
   "codemirror_mode": {
    "name": "ipython",
    "version": 3
   },
   "file_extension": ".py",
   "mimetype": "text/x-python",
   "name": "python",
   "nbconvert_exporter": "python",
   "pygments_lexer": "ipython3",
   "version": "3.9.13"
  }
 },
 "nbformat": 4,
 "nbformat_minor": 5
}
