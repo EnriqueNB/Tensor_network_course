{
 "cells": [
  {
   "cell_type": "markdown",
   "id": "f6bb9866",
   "metadata": {},
   "source": [
    "### Contractions using libraries\n",
    "In this tutorial we will start revisiting the tensor contraction defined in the previous tutorial using tensor libraries\n",
    " \n",
    "![reshape_permute](../pictures/exercice.png \"from G. Evenbly\")\n",
    "![tensor order](../pictures/oredering_indices.png \"from G. Evenbly\")\n",
    "\n",
    "\n",
    "\n"
   ]
  },
  {
   "cell_type": "markdown",
   "id": "4fe28a62",
   "metadata": {},
   "source": [
    "Differently from the reference www.tensors.net we will use einsum, that can be used in future work with authomatic differentiation. In www.tensors.net there is a function called ncon you can learn how to use on your own. \n",
    "Here we will focus on einsum whose full documentation is here: https://numpy.org/doc/stable/reference/generated/numpy.einsum.html\n",
    "Einsum is less intuitive in the sense that it copies the forumals using Einstein notation, rather than tensor networks drawing, though one can pass from one to the other decorating the drawing with indices. \n",
    "![reshape_permute](../pictures/contraction_indices.png \"from G. Evenbly\")\n",
    "Let's start by defining the tensors as done in the previous class, aslo since here we are interested in optimizing the contraction also import the time package and the matplotlib to perform plots"
   ]
  },
  {
   "cell_type": "code",
   "execution_count": null,
   "id": "1763aa0f",
   "metadata": {},
   "outputs": [],
   "source": []
  },
  {
   "cell_type": "markdown",
   "id": "67ebe456",
   "metadata": {},
   "source": [
    "We now retake the computation of the last class and check that the leading cost is actually $d^5$, we define the function contraction_by_hand, that take the five tensors and perform the contraction using only transpose and reshape as last time, "
   ]
  },
  {
   "cell_type": "code",
   "execution_count": null,
   "id": "9c5b2aa7",
   "metadata": {},
   "outputs": [],
   "source": []
  },
  {
   "cell_type": "markdown",
   "id": "d7d69c64",
   "metadata": {},
   "source": [
    "Now repeat the contraction for several d in the interval 20-80 collect the execution time and plot then in a log-log plot. (Why do we use a log-log plot?) On the x-axis put the bond dimension $d$ and on the y-axis put the execution time $t$."
   ]
  },
  {
   "cell_type": "code",
   "execution_count": null,
   "id": "58aab475",
   "metadata": {},
   "outputs": [],
   "source": []
  },
  {
   "cell_type": "code",
   "execution_count": null,
   "id": "c91276a4",
   "metadata": {},
   "outputs": [],
   "source": []
  },
  {
   "cell_type": "markdown",
   "id": "53aa190c",
   "metadata": {},
   "source": [
    "Now we define the same contraction but using einsum, use the manual page, and check that the result and scaling are the same than the contraction by hand (also check the intermediate steps.\n"
   ]
  },
  {
   "cell_type": "code",
   "execution_count": null,
   "id": "29952b46",
   "metadata": {},
   "outputs": [],
   "source": []
  },
  {
   "cell_type": "code",
   "execution_count": null,
   "id": "97c99372",
   "metadata": {},
   "outputs": [],
   "source": []
  },
  {
   "cell_type": "code",
   "execution_count": null,
   "id": "f7ad9e6a",
   "metadata": {},
   "outputs": [],
   "source": []
  },
  {
   "cell_type": "code",
   "execution_count": null,
   "id": "99a60f55",
   "metadata": {},
   "outputs": [],
   "source": []
  }
 ],
 "metadata": {
  "kernelspec": {
   "display_name": "Python 3 (ipykernel)",
   "language": "python",
   "name": "python3"
  },
  "language_info": {
   "codemirror_mode": {
    "name": "ipython",
    "version": 3
   },
   "file_extension": ".py",
   "mimetype": "text/x-python",
   "name": "python",
   "nbconvert_exporter": "python",
   "pygments_lexer": "ipython3",
   "version": "3.9.13"
  }
 },
 "nbformat": 4,
 "nbformat_minor": 5
}
