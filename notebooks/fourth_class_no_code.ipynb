{
 "cells": [
  {
   "cell_type": "markdown",
   "id": "653c1817",
   "metadata": {},
   "source": [
    "# Generic tensor contractions\n",
    "\n",
    "Almost literally copied from  G. Evenbly tensors.net tutorial 1\n",
    "\n",
    "## Defining generic tensors  \n",
    "Here we will start studying generic tensor networks and their contraction.\n",
    "Part of any tensor network study is to understand how to contract some of the parts of the tensor networks, and eventually simplify them. \n",
    "\n",
    "The first task is to initialize tensors, we typically did this by creating vectors and reshaping them into higher dimensional tensors, today we will start with those higher dimensional tensors.\n",
    "Let' s create a random tensor with three legs (an order 4 tensor) with size 2, 3, 4, 5 and call it A, remember we always work with complex tensors in quantum mechanics\n",
    "and an order 3 tensor with size 4 5 6 and call it B"
   ]
  },
  {
   "cell_type": "code",
   "execution_count": 1,
   "id": "2de370d1",
   "metadata": {},
   "outputs": [],
   "source": [
    "import numpy as np\n",
    "\n",
    "A = np.random.rand(2,3,4,5) +1j*np.random.rand(2,3,4,5)\n",
    "B = np.random.rand(4,5,6) +1j*np.random.rand(4,5,6)"
   ]
  },
  {
   "cell_type": "code",
   "execution_count": 2,
   "id": "669909d8",
   "metadata": {},
   "outputs": [
    {
     "name": "stdout",
     "output_type": "stream",
     "text": [
      "[[[[0.84533388+0.85646844j 0.29389486+0.75209355j\n",
      "    0.66000013+0.20177028j 0.88415997+0.04065447j\n",
      "    0.46141226+0.90583023j]\n",
      "   [0.10399386+0.84410432j 0.16595033+0.1375987j\n",
      "    0.43433684+0.65299228j 0.57636958+0.36228506j\n",
      "    0.22179824+0.23565418j]\n",
      "   [0.27173054+0.59022235j 0.52139694+0.23174445j\n",
      "    0.61092197+0.40609365j 0.45642019+0.79429896j\n",
      "    0.68452461+0.68385462j]\n",
      "   [0.0052575 +0.33915043j 0.77303968+0.7182572j\n",
      "    0.75788135+0.26666807j 0.12534764+0.51835391j\n",
      "    0.09726235+0.38451742j]]\n",
      "\n",
      "  [[0.29578986+0.43553851j 0.87854149+0.03742134j\n",
      "    0.3798563 +0.45518271j 0.71188386+0.77718289j\n",
      "    0.78339596+0.15608411j]\n",
      "   [0.16294515+0.09571946j 0.75216093+0.12721222j\n",
      "    0.94237373+0.30441292j 0.08146093+0.01935575j\n",
      "    0.21043736+0.59634502j]\n",
      "   [0.48927112+0.6113493j  0.79075981+0.63479991j\n",
      "    0.84662675+0.92784279j 0.55546825+0.15187453j\n",
      "    0.16370033+0.69269606j]\n",
      "   [0.0159179 +0.34786112j 0.60857647+0.8460098j\n",
      "    0.85808825+0.42952199j 0.85506701+0.43437665j\n",
      "    0.84157814+0.20821062j]]\n",
      "\n",
      "  [[0.42274094+0.35795926j 0.06848552+0.99510614j\n",
      "    0.26681137+0.79736818j 0.77022823+0.6848864j\n",
      "    0.40837751+0.17445538j]\n",
      "   [0.07501573+0.39091332j 0.8881797 +0.55661772j\n",
      "    0.80012962+0.15790787j 0.07780137+0.31788086j\n",
      "    0.04728601+0.63709936j]\n",
      "   [0.99030607+0.85114739j 0.17928066+0.43848544j\n",
      "    0.87598086+0.98008573j 0.98439185+0.40660603j\n",
      "    0.00787016+0.54407923j]\n",
      "   [0.72750183+0.27994924j 0.10150549+0.65133908j\n",
      "    0.40665443+0.06466139j 0.77344373+0.49608122j\n",
      "    0.63721034+0.7798265j ]]]\n",
      "\n",
      "\n",
      " [[[0.97592916+0.44786878j 0.95438431+0.65734172j\n",
      "    0.49763753+0.81924375j 0.46012581+0.68106331j\n",
      "    0.6937013 +0.38473268j]\n",
      "   [0.03510663+0.89666212j 0.36294368+0.50294214j\n",
      "    0.22333278+0.56388767j 0.79042413+0.38670272j\n",
      "    0.8816823 +0.12660659j]\n",
      "   [0.84805136+0.88762882j 0.04544629+0.56645776j\n",
      "    0.1264818 +0.43746887j 0.06463824+0.90415397j\n",
      "    0.18454531+0.56087041j]\n",
      "   [0.61811904+0.56720097j 0.75413811+0.91324185j\n",
      "    0.18709688+0.49326368j 0.61511844+0.99922108j\n",
      "    0.76622944+0.781825j  ]]\n",
      "\n",
      "  [[0.50077663+0.28203769j 0.57364287+0.21063184j\n",
      "    0.53354304+0.91192584j 0.14717635+0.90350542j\n",
      "    0.88723469+0.72984095j]\n",
      "   [0.74297105+0.6428281j  0.89146695+0.70207885j\n",
      "    0.39083743+0.22951173j 0.32256373+0.78602739j\n",
      "    0.32918688+0.62942542j]\n",
      "   [0.82885252+0.91470475j 0.02345075+0.37839072j\n",
      "    0.52383718+0.829734j   0.63677388+0.07759941j\n",
      "    0.99801311+0.48973139j]\n",
      "   [0.4828718 +0.59385046j 0.91742746+0.88553464j\n",
      "    0.23989895+0.7337419j  0.54495804+0.08320661j\n",
      "    0.81364883+0.3855749j ]]\n",
      "\n",
      "  [[0.35675762+0.23196633j 0.27073142+0.44959331j\n",
      "    0.36979782+0.29163758j 0.50084826+0.04339954j\n",
      "    0.6463097 +0.84699172j]\n",
      "   [0.36262888+0.61335074j 0.55812591+0.11184796j\n",
      "    0.09555109+0.51851015j 0.67923184+0.73179602j\n",
      "    0.68669333+0.076904j  ]\n",
      "   [0.33568727+0.31802779j 0.56209341+0.52391299j\n",
      "    0.68165204+0.83656457j 0.25098435+0.14043111j\n",
      "    0.25137627+0.29969706j]\n",
      "   [0.76985763+0.56520871j 0.56612938+0.50421034j\n",
      "    0.23152952+0.08688866j 0.32106736+0.76483224j\n",
      "    0.61484062+0.07603988j]]]]\n",
      "[[[0.99543887+0.65054273j 0.7002939 +0.02101412j 0.30629095+0.67546656j\n",
      "   0.41660776+0.94139319j 0.4976641 +0.01147416j 0.27688727+0.87671047j]\n",
      "  [0.13830737+0.80306738j 0.25459152+0.69535555j 0.23611771+0.84967226j\n",
      "   0.90358924+0.71519821j 0.40265576+0.79873166j 0.11946751+0.35328108j]\n",
      "  [0.75467225+0.87680348j 0.89081635+0.22788439j 0.51060152+0.3541724j\n",
      "   0.78642068+0.81588159j 0.91004002+0.6885779j  0.35297148+0.20532284j]\n",
      "  [0.92664316+0.38427451j 0.78609411+0.94709599j 0.3573474 +0.76932283j\n",
      "   0.46551642+0.18367572j 0.83406099+0.50602386j 0.04458717+0.694543j  ]\n",
      "  [0.61922103+0.19338995j 0.94003311+0.10907238j 0.64325575+0.98770165j\n",
      "   0.47825599+0.70616278j 0.49483636+0.90458767j 0.19530403+0.12288347j]]\n",
      "\n",
      " [[0.99329992+0.72983582j 0.37316005+0.13125367j 0.18411043+0.2762991j\n",
      "   0.36819136+0.0240911j  0.36238791+0.50917174j 0.8664269 +0.9241872j ]\n",
      "  [0.73333578+0.33955918j 0.17226647+0.62191278j 0.37504873+0.50889302j\n",
      "   0.34674585+0.42218631j 0.46116671+0.72257008j 0.74855519+0.76045641j]\n",
      "  [0.08212466+0.14579273j 0.43116773+0.51429623j 0.70133347+0.16913474j\n",
      "   0.37329173+0.44700846j 0.82926088+0.1380416j  0.28588623+0.52086533j]\n",
      "  [0.74123735+0.2358924j  0.70903991+0.48979652j 0.97331262+0.67747847j\n",
      "   0.22094217+0.02037685j 0.00772042+0.61404972j 0.19538408+0.98139217j]\n",
      "  [0.37464683+0.72439387j 0.91031221+0.01136532j 0.82095588+0.10006431j\n",
      "   0.61798958+0.80286848j 0.16654129+0.6767323j  0.16232476+0.72639207j]]\n",
      "\n",
      " [[0.6244509 +0.83540533j 0.31622933+0.83855915j 0.12756658+0.76330182j\n",
      "   0.09690367+0.71993165j 0.43136855+0.41760291j 0.41157283+0.93671455j]\n",
      "  [0.30479179+0.88267834j 0.83675867+0.8837503j  0.930054  +0.81575335j\n",
      "   0.00675638+0.702755j   0.21253532+0.99144345j 0.16087631+0.01700323j]\n",
      "  [0.87277165+0.08162697j 0.21619548+0.67479222j 0.37731342+0.09780962j\n",
      "   0.74866181+0.5627341j  0.881835  +0.7788962j  0.60836794+0.54347974j]\n",
      "  [0.39262436+0.60114602j 0.2134761 +0.04651214j 0.15093145+0.84017738j\n",
      "   0.73756501+0.6762482j  0.82124091+0.30320109j 0.58216114+0.42352435j]\n",
      "  [0.89977915+0.48219585j 0.95462006+0.03532323j 0.27684757+0.92274103j\n",
      "   0.50541701+0.15144189j 0.75546457+0.16569864j 0.60943802+0.14290865j]]\n",
      "\n",
      " [[0.7985423 +0.07620016j 0.8516807 +0.78261109j 0.80971321+0.01668522j\n",
      "   0.02114401+0.92551482j 0.91194079+0.77320274j 0.16584599+0.13246826j]\n",
      "  [0.52034592+0.53243201j 0.37851373+0.31781142j 0.78184119+0.41535771j\n",
      "   0.62297384+0.26766384j 0.45372091+0.05162757j 0.73152592+0.68606195j]\n",
      "  [0.77367232+0.68399153j 0.03128286+0.01690159j 0.93404117+0.57213718j\n",
      "   0.45633478+0.99456205j 0.73083358+0.02223919j 0.65439513+0.85195871j]\n",
      "  [0.52547253+0.93738847j 0.55152851+0.8776671j  0.17641185+0.92111967j\n",
      "   0.51489138+0.85720992j 0.1093603 +0.74185922j 0.10721619+0.17202219j]\n",
      "  [0.50294446+0.60399442j 0.0922886 +0.58544269j 0.70806092+0.30022031j\n",
      "   0.34466478+0.88542504j 0.59362463+0.54741669j 0.6174033 +0.56183364j]]]\n"
     ]
    }
   ],
   "source": [
    "print(A)\n",
    "print(B)"
   ]
  },
  {
   "attachments": {},
   "cell_type": "markdown",
   "id": "ab5b7583",
   "metadata": {},
   "source": [
    "We obtain some states that widely excess the limits of the ipynb notebook. "
   ]
  },
  {
   "cell_type": "markdown",
   "id": "7b8738da",
   "metadata": {},
   "source": [
    "Then we create an identity matrix that is 5 by 5 and call it C"
   ]
  },
  {
   "cell_type": "code",
   "execution_count": 4,
   "id": "29b2333a",
   "metadata": {},
   "outputs": [],
   "source": [
    "C = np.eye(5, 5)"
   ]
  },
  {
   "cell_type": "markdown",
   "id": "d038b4ea",
   "metadata": {},
   "source": [
    "Other special tensors are those made by all ones, that clearly can be multiplied by an arbitrary random complex constant, thus obtaining a tensor where each element is the same, create one that has order 4 and dimension 2, 4, 2, 4, create it and call it D"
   ]
  },
  {
   "cell_type": "code",
   "execution_count": 8,
   "id": "58a40856",
   "metadata": {},
   "outputs": [],
   "source": [
    "D = (np.random.rand() + 1j*np.random.rand())*np.ones((2,4,2,4))"
   ]
  },
  {
   "cell_type": "markdown",
   "id": "621280c1",
   "metadata": {},
   "source": [
    "Finally when a tensor only has few non-zero elements, one can create a tensor made of all zeros and fill the desider elements. E.g. create a tensor with order 2 made of zero and fill the first element with a random complex number"
   ]
  },
  {
   "cell_type": "code",
   "execution_count": 8,
   "id": "47c1024b",
   "metadata": {},
   "outputs": [],
   "source": [
    " "
   ]
  },
  {
   "attachments": {},
   "cell_type": "markdown",
   "id": "bd8a1fb2",
   "metadata": {},
   "source": [
    "Now we can reorder the legs (permuting them which incurs in a computational cost proportional to the size of the tensor) or grouping or splitting the legs, which does not have a relevant computational cost (for large tensors) since it only changes the labels used to address the elements ![r](../pictures/reshape_permute.png) \n",
    "For example implement the above permutation and reshaping  for the tensor A  and B defined above"
   ]
  },
  {
   "cell_type": "code",
   "execution_count": 5,
   "id": "2815e657",
   "metadata": {},
   "outputs": [],
   "source": []
  },
  {
   "attachments": {},
   "cell_type": "markdown",
   "id": "8f1b5a91",
   "metadata": {},
   "source": [
    "## Tensor contractions\n",
    "\n",
    "We now enter the realm of tensor contractions. First of all remember that contracting two tensors means summing the product of the tensor elements, it is a generalization of matrix multiplication\n",
    "\n",
    "$ M^i_k =\\sum _j A^i_j * B^j_k$, in the theory material you have gone through the diagramatic (or Penrose) notation for such operations. So let's put them in practice here. \n",
    "\n",
    "We will start by contracting two tensors. This can be done in several ways.\n",
    "Define a new tensor $B$ with order 4 and dimensions 3,4,2,5\n",
    "Now contract it with the $A$ tensor defined above on the second and fifth leg\n",
    "\n",
    "First compute it using for loops"
   ]
  },
  {
   "cell_type": "code",
   "execution_count": 33,
   "id": "ec68ed0d",
   "metadata": {},
   "outputs": [],
   "source": []
  },
  {
   "cell_type": "markdown",
   "id": "ccaf13fa",
   "metadata": {},
   "source": [
    "Now repeat the same operation by transforming the two tensors into matrix and then performing a matrix multiplication, call the resulting tensor $\\tilde{C}$ and compare that the two methods provide the same result.\n",
    "![Contraction as matrix multiplication](../pictures/contraction_as_matrix_multiplication.png \"For G. Evenbly\")\n"
   ]
  },
  {
   "cell_type": "code",
   "execution_count": 32,
   "id": "8e8e6041",
   "metadata": {},
   "outputs": [
    {
     "data": {
      "text/plain": [
       "(1.5543122344752192e-15-1.7763568394002505e-15j)"
      ]
     },
     "execution_count": 32,
     "metadata": {},
     "output_type": "execute_result"
    }
   ],
   "source": [
    "\n"
   ]
  },
  {
   "attachments": {},
   "cell_type": "markdown",
   "id": "f5c4d314",
   "metadata": {},
   "source": [
    "## Computational cost of tensor contractions. \n",
    "\n",
    "As you have seen in the theory material, contracting tensors comes at a cost, here there is the summary of that cost is in this picture from tensors.net \n",
    "![Cost of contraction](../pictures/contraction_cost.png \"from G. Evenbly\")\n"
   ]
  },
  {
   "cell_type": "markdown",
   "id": "523bd6d1",
   "metadata": {},
   "source": [
    "## More than 2 tensors \n",
    "When your network to contract include more than two tensors it is computationally advantageous to break the contraction into pairwise contractions. For example if you need to contract three tensors, and you do it in a single shot (by using for loops) you incur into a higher computational cost. Try it below follwing the diagarm. Contract it with for loops and by sequence of matrix multiplications.\n",
    "![three_tensors](../pictures/three_tensors.png \"from G. Evenbly\")\n"
   ]
  },
  {
   "cell_type": "code",
   "execution_count": 34,
   "id": "0b8df526",
   "metadata": {},
   "outputs": [],
   "source": []
  },
  {
   "cell_type": "markdown",
   "id": "60d93eeb",
   "metadata": {},
   "source": [
    "In general the cost of the contraction of a tensor network depends on the order of the contraction. The picture below from tensors.net provide an explicit example \n",
    "![Cost of contraction](../pictures/order_cost.png \"from G. Evenbly\")\n"
   ]
  },
  {
   "cell_type": "markdown",
   "id": "070447bf",
   "metadata": {},
   "source": [
    "As an exercise find the optimal contraction sequence of this diagarm (from tensors.net) and write the code the performs the optimized contraction transforming the tensors to matrices and multiplying them.\n",
    " ![reshape_permute](../pictures/exercice.png \"from G. Evenbly\")\n",
    "  Initialize the tensors as random tensors whose legs all share the same dimension $d=10$ \n",
    "  use the following convention for the ordering of indices\n",
    "   ![reshape_permute](../pictures/oredering_indices.png \"from G. Evenbly\")\n"
   ]
  },
  {
   "cell_type": "code",
   "execution_count": 43,
   "id": "87a6e8cb",
   "metadata": {},
   "outputs": [],
   "source": []
  },
  {
   "cell_type": "code",
   "execution_count": null,
   "id": "cdf53df9",
   "metadata": {},
   "outputs": [],
   "source": []
  }
 ],
 "metadata": {
  "kernelspec": {
   "display_name": "MSc-Quantum-Science-and-Tech",
   "language": "python",
   "name": "python3"
  },
  "language_info": {
   "codemirror_mode": {
    "name": "ipython",
    "version": 3
   },
   "file_extension": ".py",
   "mimetype": "text/x-python",
   "name": "python",
   "nbconvert_exporter": "python",
   "pygments_lexer": "ipython3",
   "version": "3.9.15"
  },
  "vscode": {
   "interpreter": {
    "hash": "4f6b0785c9551941f009af0c63508e51ec423cc283a24250d9b0fe46e7c89223"
   }
  }
 },
 "nbformat": 4,
 "nbformat_minor": 5
}
