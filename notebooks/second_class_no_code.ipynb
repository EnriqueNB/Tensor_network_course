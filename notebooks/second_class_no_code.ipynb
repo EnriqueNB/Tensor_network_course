{
 "cells": [
  {
   "cell_type": "markdown",
   "id": "7e1cc2ca",
   "metadata": {},
   "source": [
    "# Building the Hamiltonian for large systems\n",
    "We now can try to describe a concrete example. Before doing this we need to be able to build Hamiltonians  and learn how to diagonalize it \n",
    "Fist build a $N\\times  N$ Hermitian matrix. (E.g. set N=2)"
   ]
  },
  {
   "cell_type": "code",
   "execution_count": 1,
   "id": "92166ea9",
   "metadata": {},
   "outputs": [],
   "source": [
    "import numpy as np\n",
    "import scipy.linalg as LA "
   ]
  },
  {
   "cell_type": "markdown",
   "id": "155597d0",
   "metadata": {},
   "source": [
    "Now you can diagonalize it, and extract eigenvectors and eigenvalues, check that you can get back the original matrix \n",
    "$M = U m U^{\\dagger}$\n",
    "\n",
    "and that \n",
    "$M\\vec{u}_1 = m_1 \\vec{u}_1$\n"
   ]
  },
  {
   "cell_type": "code",
   "execution_count": null,
   "id": "667d3c3e",
   "metadata": {},
   "outputs": [],
   "source": []
  },
  {
   "cell_type": "markdown",
   "id": "dadf88b5",
   "metadata": {},
   "source": [
    "Now we can study our first many body system, the Ising model in transverse field for $N=3$ spins, the Hamiltonian reads\n",
    "$ H = -\\sigma_x^1\\otimes \\sigma_x^2 - \\sigma_x^2\\otimes \\sigma_x^3 -\\sigma_x^3\\otimes \\sigma_x^1+\\lambda \\left(  \\sigma_z^1+  \\sigma_z^2+\\sigma_z^3\\right)$, build it for several values of $\\lambda$ (e.g. 20 points in the interval $[0,10]$) and plot the ground state energy for every value. "
   ]
  },
  {
   "cell_type": "code",
   "execution_count": null,
   "id": "c29cb254",
   "metadata": {},
   "outputs": [],
   "source": []
  },
  {
   "cell_type": "markdown",
   "id": "98f82af4",
   "metadata": {},
   "source": [
    "We now move to the generic $N$ we do it recursively notice that going from $N$ to $N+1$ you need to perform a simple step"
   ]
  },
  {
   "cell_type": "code",
   "execution_count": null,
   "id": "80be8eb1",
   "metadata": {},
   "outputs": [],
   "source": []
  },
  {
   "cell_type": "markdown",
   "id": "ea6992ff",
   "metadata": {},
   "source": [
    "We wrap the above code into the function by using the \n",
    "\n",
    "def function():\n",
    "return \n",
    "\n",
    "statements, we want to provide, $N$ and $\\lambda$ as arguments and obtain the energies, the eigenvectors and the Hamiltonian as a result of our function evaluation\n"
   ]
  },
  {
   "cell_type": "code",
   "execution_count": null,
   "id": "556c7f23",
   "metadata": {},
   "outputs": [],
   "source": []
  },
  {
   "cell_type": "markdown",
   "id": "a34530f3",
   "metadata": {},
   "source": [
    "Now in the following we use the function just defined to see the first 10 energy levels of the spectrum for several values of the field for fixed $N=10$"
   ]
  },
  {
   "cell_type": "code",
   "execution_count": null,
   "id": "ac21408c",
   "metadata": {},
   "outputs": [],
   "source": []
  },
  {
   "cell_type": "markdown",
   "id": "5af7cda0",
   "metadata": {},
   "source": [
    "Now we can build the translation operator, that cyclically permute all the spins along the chain:\n",
    "    \n",
    "it sends spins $1,2 \\cdots N-1, N$ into  $N, 1,2 \\cdots N-1$\n",
    "\n",
    "Again we want to create it iteratively starting from $N=2$, notice the simple recursion relation,\n"
   ]
  },
  {
   "cell_type": "code",
   "execution_count": null,
   "id": "56cb030e",
   "metadata": {},
   "outputs": [],
   "source": []
  },
  {
   "cell_type": "markdown",
   "id": "549af2de",
   "metadata": {},
   "source": [
    "Plot the eigenvalues on the complex plane, how do they look like?"
   ]
  },
  {
   "cell_type": "code",
   "execution_count": null,
   "id": "f1889f4d",
   "metadata": {},
   "outputs": [],
   "source": []
  },
  {
   "cell_type": "markdown",
   "id": "61128be1",
   "metadata": {},
   "source": [
    "Now we build a symmetry operator $S$ which is it? Check that the translation operator, the symmetry operator and the Hamiltonian commute "
   ]
  },
  {
   "cell_type": "code",
   "execution_count": null,
   "id": "0ce25b35",
   "metadata": {},
   "outputs": [],
   "source": []
  },
  {
   "cell_type": "markdown",
   "id": "78403507",
   "metadata": {},
   "source": [
    "Check that the symmetry operators has only eigenvalue $\\pm 1$"
   ]
  },
  {
   "cell_type": "code",
   "execution_count": null,
   "id": "3b1dd68e",
   "metadata": {},
   "outputs": [],
   "source": []
  },
  {
   "cell_type": "markdown",
   "id": "c8e80656",
   "metadata": {},
   "source": [
    "Now we want to obtain the simultaneous eigenvectors for all three operators  we want to get the spectrum with the three quantum numbers\n",
    "$|e, k , s\\rangle$\n",
    "\n",
    "$ H|e, k , s\\rangle = e |e, k , s\\rangle$\n",
    "\n",
    "$ T|e, k , s\\rangle = \\exp(ik) |e, k , s\\rangle$\n",
    "\n",
    "$ S|e, k , s\\rangle = (-1)^s |e, k , s\\rangle$\n",
    "\n",
    "The trick is to construct a linear combination of the three operators.\n",
    "You want to build the combination in such a way that the order of the eigenvalues of H is still respected and the other operators are only used to break the degeneracy\n",
    "\n",
    "e.g for $N=10$ \n",
    "$O = H +0.01*T+ 0.001*S$\n",
    "\n",
    "We only want the first eigenvectors so we will use Lanczos, that is implement in https://docs.scipy.org/doc/scipy/reference/generated/scipy.sparse.linalg.eigs.html\n"
   ]
  },
  {
   "cell_type": "code",
   "execution_count": null,
   "id": "b71fcfa5",
   "metadata": {},
   "outputs": [],
   "source": [
    "from scipy.sparse.linalg import eigs\n",
    "\n",
    "H,_,_ =construct_and_diagonalize_Hamiltonian(10,1.)\n",
    "Op_to_diag = H+ 0.01*translation -0.001*symm_op\n",
    "first_eigenvalue,first_eigenvectors = eigs(Op_to_diag,k=20,which='SR')\n"
   ]
  },
  {
   "cell_type": "code",
   "execution_count": null,
   "id": "da630dfa",
   "metadata": {},
   "outputs": [],
   "source": []
  },
  {
   "cell_type": "markdown",
   "id": "17aaa53c",
   "metadata": {},
   "source": [
    "Now we have to reconstruct the three eigenvalues we are interested in by using the matrix element of the operator in the desired eigenvealue\n",
    "\n",
    "$e = \\langle e, k , s |H |e, k , s\\rangle$\n",
    "\n",
    "$\\exp (i k ) = \\langle e, k , s |T |e, k , s\\rangle$\n",
    "\n",
    "\n",
    "$s =  \\langle e, k , s |S|e, k , s\\rangle$\n",
    "\n",
    "\n",
    "also since we are interested in $k$ we take the phase of the complex number $\\exp(ik)$ using the  cmath.phase() function, remember to import cmath,\n",
    "\n",
    "\n",
    "Finally we plot all the above information in a dispersion relation, a plot of the Energy  ($e$) versus the momentum ($k$), and use different symbols for different symmetry charges.  \n",
    "\n"
   ]
  },
  {
   "cell_type": "code",
   "execution_count": null,
   "id": "8b890382",
   "metadata": {},
   "outputs": [],
   "source": []
  },
  {
   "cell_type": "code",
   "execution_count": null,
   "id": "393b22a9",
   "metadata": {},
   "outputs": [],
   "source": [
    "import cmath\n",
    "\n",
    "energies =[]\n",
    "momentum =[]\n",
    "charges =[]\n",
    "for k in range(0,20):\n",
    "    e_v = first_eigenvectors[:,k].T.conj()@H@first_eigenvectors[:,k]\n",
    "    energies.append(e_v)\n",
    "    k_v = first_eigenvectors[:,k].T.conj()@translation@first_eigenvectors[:,k]\n",
    "    momentum.append(cmath.phase(k_v))\n",
    "    s_v =first_eigenvectors[:,k].T.conj()@symm_op@first_eigenvectors[:,k]\n",
    "    charges.append(s_v)\n",
    "\n",
    "print(energies)\n",
    "print(momentum)\n",
    "print(charges)\n",
    "charges =np.array(charges)\n",
    "energies=np.array(energies)\n",
    "momentum=np.array(momentum)\n",
    "print((charges-1))\n",
    "mask_charges=np.less_equal(np.abs(charges-1),1e-10)\n",
    "\n",
    "plt.plot(momentum[mask_charges],energies[mask_charges],'.',markersize=20,label='even')\n",
    "mask_charges=np.less_equal(np.abs(charges+1),1e-10)\n",
    "plt.plot(momentum[mask_charges],energies[mask_charges],'d',markersize=10,label='odd')\n",
    "plt.legend(loc=\"lower right\", fontsize=16)\n",
    "plt.xlabel('Energies', fontsize=16)\n",
    "plt.ylabel('Momentum', fontsize=16)\n",
    "plt.grid('on')"
   ]
  },
  {
   "cell_type": "code",
   "execution_count": null,
   "id": "465a287f",
   "metadata": {},
   "outputs": [],
   "source": []
  }
 ],
 "metadata": {
  "kernelspec": {
   "display_name": "MSc-Quantum-Science-and-Tech",
   "language": "python",
   "name": "python3"
  },
  "language_info": {
   "codemirror_mode": {
    "name": "ipython",
    "version": 3
   },
   "file_extension": ".py",
   "mimetype": "text/x-python",
   "name": "python",
   "nbconvert_exporter": "python",
   "pygments_lexer": "ipython3",
   "version": "3.9.15 (main, Nov 24 2022, 08:29:02) \n[Clang 14.0.6 ]"
  },
  "vscode": {
   "interpreter": {
    "hash": "4f6b0785c9551941f009af0c63508e51ec423cc283a24250d9b0fe46e7c89223"
   }
  }
 },
 "nbformat": 4,
 "nbformat_minor": 5
}
