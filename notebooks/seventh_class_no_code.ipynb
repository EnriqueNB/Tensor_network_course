{
 "cells": [
  {
   "cell_type": "markdown",
   "id": "64d75328",
   "metadata": {},
   "source": [
    "# Playing with MPS\n",
    "Start by copying the part of the code that transforms a generic state to an MPS from the sixth class"
   ]
  },
  {
   "cell_type": "code",
   "execution_count": 1,
   "id": "fede8c8c",
   "metadata": {},
   "outputs": [],
   "source": [
    "import numpy as np \n",
    "import scipy.linalg as LA\n",
    "def generate_random_state(N):\n",
    "        dim_h =2**N\n",
    "        init_state = np.zeros([dim_h,1])\n",
    "        init_state[0]=1.\n",
    "        random_h = np.array(np.random.rand(dim_h,dim_h)+1j*np.random.rand(dim_h,dim_h))\n",
    "        random_h = random_h+random_h.T.conj()\n",
    "        random_h = random_h/LA.norm(random_h)*N\n",
    "\n",
    "        random_unitary =LA.expm(-1j*random_h)\n",
    "        random_state=random_unitary@init_state\n",
    "        return random_state\n",
    "    \n",
    "def compute_A_sigma_bulk(remaining_state,n,list_sigma):\n",
    "        remaining_spins= len(remaining_state.shape)\n",
    "        initial_shape =remaining_state.shape\n",
    "        if n == 0 :\n",
    "            #print('first')\n",
    "            first_size =remaining_state.shape[0]\n",
    "            second_size=np.prod(remaining_state.shape[1:])\n",
    "        else:\n",
    "            #print('bulk')\n",
    "            first_size =remaining_state.shape[0]\n",
    "            second_size=np.prod(remaining_state.shape[1:])\n",
    "            remaining_state_c =remaining_state.reshape(first_size,second_size)\n",
    "            first_size =np.prod(remaining_state.shape[0:2])\n",
    "            second_size=np.prod(remaining_state.shape[2:])\n",
    "            sigma_prev = list_sigma[n-1]\n",
    "            remaining_state = sigma_prev@remaining_state_c\n",
    "            remaining_state = remaining_state.reshape(initial_shape)\n",
    "            \n",
    "            \n",
    "            \n",
    "        remaining_state_matrix = remaining_state.reshape(\n",
    "            first_size,second_size)\n",
    "        \n",
    "        A,sigma,rest = LA.svd(remaining_state_matrix,full_matrices\n",
    "                             =False)\n",
    "        \n",
    "        chi=rest.shape[0]\n",
    "        sigma =np.diag(sigma)\n",
    "        if n == 0:\n",
    "            rest_tensor =rest.reshape([rest.shape[0]]\n",
    "                                  +list(remaining_state.shape[1:]))\n",
    "        else:\n",
    "            A =A.reshape(remaining_state.shape[0],remaining_state.shape[1],\n",
    "                     A.shape[1])\n",
    "            A = np.einsum('ij,jkl->ikl',LA.pinv(list_sigma[n-1]),A)\n",
    "            rest_tensor =rest.reshape([rest.shape[0]]+\n",
    "                                  list(remaining_state.shape[2:]))\n",
    "        \n",
    "        return A, sigma, rest_tensor\n",
    "        \n",
    "def state_reconstruct_einsum(list_A,list_sigma):\n",
    "    N =len(list_A)\n",
    "    avail_index = 'abcdefghlmnopqrstuvz'\n",
    "    first_piece = list_A_tensors[0]\n",
    "    for n in range(N-1):\n",
    "        if n ==0:\n",
    "            first_piece=np.einsum('ab,bd->ad',first_piece,list_sigma_tensors[n])\n",
    "        else: \n",
    "            #print(first_piece.shape)\n",
    "            #print(list_sigma_tensors[n].shape)\n",
    "            num_left_indices=len(first_piece.shape)\n",
    "            einsum_index=avail_index[0:num_left_indices]\n",
    "            einsum_index+=','+avail_index[num_left_indices-1:num_left_indices+1]\n",
    "            einsum_index+='->'+avail_index[0:num_left_indices-1]+avail_index[\n",
    "               num_left_indices]\n",
    "            #print(einsum_index)\n",
    "            first_piece=np.einsum(einsum_index,\n",
    "                                      first_piece,list_sigma_tensors[n])\n",
    "        print('contracting '+str(n))\n",
    "        num_left_indices=len(first_piece.shape)\n",
    "        einsum_index=avail_index[0:num_left_indices]\n",
    "        next_piece = list_A_tensors[n+1]\n",
    "        other_index=len(next_piece.shape)\n",
    "        einsum_index = einsum_index+','+avail_index[num_left_indices-1:\n",
    "                    num_left_indices+other_index-1]\n",
    "        einsum_index += '->'+avail_index[0:num_left_indices-1]+ avail_index[\n",
    "            num_left_indices:num_left_indices+other_index-1]\n",
    "        #print(einsum_index)\n",
    "        first_piece =np.einsum(einsum_index,first_piece,next_piece)    \n",
    "    return first_piece\n",
    "def state_reconstruct_matmult(list_A,list_sigma):\n",
    "    N =len(list_A)\n",
    "    #print(N)\n",
    "    list_d =[]\n",
    "    list_d.append(list_A[0].shape[1])\n",
    "    mat_left= list_A[0]\n",
    "    for n in range(1,N-1):\n",
    "        #print(n)\n",
    "        mat_left = mat_left@list_sigma[n-1]\n",
    "        mat_left = mat_left@list_A[n].reshape(list_A[n].shape[0],list_A[n].shape[1]*list_A[n].shape[2])\n",
    "        mat_left = mat_left.reshape(mat_left.shape[0]*list_A[n].shape[1],list_A[n].shape[2])\n",
    "        list_d.append(list_A[n].shape[1])\n",
    "    \n",
    "    mat_left = mat_left@list_sigma[N-2]\n",
    "    mat_left = mat_left@list_A[N-1]\n",
    "    list_d.append(list_A[N-1].shape[1])\n",
    "    mat_left = mat_left.reshape(list_d)\n",
    "    return mat_left\n",
    "\n",
    "\n",
    "def create_MPS(N,state):\n",
    "    remaining_state =state\n",
    "    list_A_tensors =[]\n",
    "    list_sigma_tensors =[]\n",
    "    for n in range(N-1):\n",
    "    #print(n)\n",
    "        A,sigma,rest=compute_A_sigma_bulk(remaining_state,n,list_sigma_tensors)\n",
    "    \n",
    "        remaining_state =rest\n",
    "    #print(rest.shape)\n",
    "        list_A_tensors.append(A)\n",
    "        list_sigma_tensors.append(sigma)\n",
    "\n",
    "    \n",
    "    list_A_tensors.append(rest)\n",
    "    return list_A_tensors, list_sigma_tensors"
   ]
  },
  {
   "cell_type": "markdown",
   "id": "fc72d2e0",
   "metadata": {},
   "source": [
    "Now let start generating some interesting states and obtain their MPS decomposition. Let's first generate the $W$ state:  \n",
    "$$ |W  \\rangle =\\frac{1}{\\sqrt{N}}\\sum_{n=1}^{N} |0 \\cdots 0 1_n 0\\cdots 0\\rangle  $$"
   ]
  },
  {
   "cell_type": "code",
   "execution_count": 17,
   "id": "566bfc27",
   "metadata": {},
   "outputs": [
    {
     "name": "stdout",
     "output_type": "stream",
     "text": [
      "[[[[0.  0.5]\n",
      "   [0.5 0. ]]\n",
      "\n",
      "  [[0.5 0. ]\n",
      "   [0.  0. ]]]\n",
      "\n",
      "\n",
      " [[[0.5 0. ]\n",
      "   [0.  0. ]]\n",
      "\n",
      "  [[0.  0. ]\n",
      "   [0.  0. ]]]]\n"
     ]
    }
   ],
   "source": [
    "\n",
    "def create_W(N):\n",
    "    zero = np.array([[1,0]])\n",
    "    one = np.array([[0,1]])\n",
    "\n",
    "    W_aux = [zero for i in range(N)]\n",
    "    W = np.zeros((1,2**N))\n",
    "\n",
    "    for i in range(N):\n",
    "        W_aux[i] = one\n",
    "        aux = W_aux[0]\n",
    "        for j in range(1,N):\n",
    "            aux = np.kron(aux, W_aux[j])\n",
    "        W += aux\n",
    "        W_aux[i] = zero\n",
    "\n",
    "    rango = [2 for i in range(N)]\n",
    "\n",
    "    return W.reshape(rango)/np.sqrt(N)\n",
    "\n",
    "print(create_W(4))"
   ]
  },
  {
   "cell_type": "markdown",
   "id": "fbd5859c",
   "metadata": {},
   "source": [
    "Let' s transform it into an MPS using the function defined abvove"
   ]
  },
  {
   "cell_type": "code",
   "execution_count": 19,
   "id": "5d61a0a4",
   "metadata": {},
   "outputs": [
    {
     "data": {
      "text/plain": [
       "([array([[1., 0.],\n",
       "         [0., 1.]]),\n",
       "  array([[[ 0.00000000e+00,  1.15470054e+00, -1.28197512e-16,\n",
       "            1.06745872e-32],\n",
       "          [-8.16496581e-01, -1.28197512e-16, -8.16496581e-01,\n",
       "           -9.06493304e-17]],\n",
       "  \n",
       "         [[-1.41421356e+00,  0.00000000e+00,  1.41421356e+00,\n",
       "           -6.50353591e-17],\n",
       "          [-1.57009246e-16, -4.93038066e-32, -6.50353591e-17,\n",
       "            2.00000000e+00]]]),\n",
       "  array([[[-1.15470054,  0.        ],\n",
       "          [ 0.        ,  0.        ]],\n",
       "  \n",
       "         [[ 0.        , -1.41421356],\n",
       "          [ 0.81649658,  0.        ]],\n",
       "  \n",
       "         [[ 0.        ,  0.        ],\n",
       "          [ 0.        ,  0.        ]],\n",
       "  \n",
       "         [[ 0.        ,  0.        ],\n",
       "          [ 0.        ,  0.        ]]]),\n",
       "  array([[ 1.,  0.],\n",
       "         [-0., -1.]])],\n",
       " [array([[0.8660254, 0.       ],\n",
       "         [0.       , 0.5      ]]),\n",
       "  array([[7.07106781e-01, 0.00000000e+00, 0.00000000e+00, 0.00000000e+00],\n",
       "         [0.00000000e+00, 7.07106781e-01, 0.00000000e+00, 0.00000000e+00],\n",
       "         [0.00000000e+00, 0.00000000e+00, 3.92523115e-17, 0.00000000e+00],\n",
       "         [0.00000000e+00, 0.00000000e+00, 0.00000000e+00, 0.00000000e+00]]),\n",
       "  array([[0.8660254, 0.       ],\n",
       "         [0.       , 0.5      ]])])"
      ]
     },
     "execution_count": 19,
     "metadata": {},
     "output_type": "execute_result"
    }
   ],
   "source": [
    "N = 4\n",
    "create_MPS(N, create_W(N))"
   ]
  },
  {
   "cell_type": "markdown",
   "id": "87c269c4",
   "metadata": {},
   "source": [
    "Let's have a look to the singular value of the $|W \\rangle $ state"
   ]
  },
  {
   "cell_type": "code",
   "execution_count": null,
   "id": "d466f184",
   "metadata": {},
   "outputs": [],
   "source": []
  },
  {
   "cell_type": "markdown",
   "id": "f9f4ca5c",
   "metadata": {},
   "source": [
    "Now let's build the MPS for the state $WW$\n",
    "$$ |W W \\rangle =\\frac{1}{\\sqrt{N-1}}\\sum_{n=1}^{N-1} |0 \\cdots 0 1_n 1_{n+1} 0\\cdots 0\\rangle  $$"
   ]
  },
  {
   "cell_type": "code",
   "execution_count": null,
   "id": "308c4b4f",
   "metadata": {},
   "outputs": [],
   "source": []
  },
  {
   "cell_type": "code",
   "execution_count": null,
   "id": "a116a654",
   "metadata": {},
   "outputs": [],
   "source": []
  },
  {
   "cell_type": "markdown",
   "id": "cdf5e12c",
   "metadata": {},
   "source": [
    "Now define a function that performs the truncation on the MPS you have obtained"
   ]
  },
  {
   "cell_type": "code",
   "execution_count": null,
   "id": "79890e39",
   "metadata": {},
   "outputs": [],
   "source": []
  },
  {
   "cell_type": "code",
   "execution_count": null,
   "id": "c8fffbe6",
   "metadata": {},
   "outputs": [],
   "source": []
  },
  {
   "cell_type": "markdown",
   "id": "9b5018a9",
   "metadata": {},
   "source": [
    "# Matrix product operators\n",
    "\n",
    "Now let's define a vector of operators, $v^i_{a,b} = \\sigma^i_{a,b}$ where we select only a 2-dimensional subspace of the operator space, say $1, \\sigma_x$"
   ]
  },
  {
   "cell_type": "code",
   "execution_count": null,
   "id": "06ae5328",
   "metadata": {},
   "outputs": [],
   "source": []
  },
  {
   "cell_type": "markdown",
   "id": "47c546b9",
   "metadata": {},
   "source": [
    "Now contract the first leg of the operator tensor with the physical leg of the MPS for the $WW$ state, what do you obtain?"
   ]
  },
  {
   "cell_type": "code",
   "execution_count": null,
   "id": "84a6700b",
   "metadata": {},
   "outputs": [],
   "source": []
  }
 ],
 "metadata": {
  "kernelspec": {
   "display_name": "MSc-Quantum-Science-and-Tech",
   "language": "python",
   "name": "python3"
  },
  "language_info": {
   "codemirror_mode": {
    "name": "ipython",
    "version": 3
   },
   "file_extension": ".py",
   "mimetype": "text/x-python",
   "name": "python",
   "nbconvert_exporter": "python",
   "pygments_lexer": "ipython3",
   "version": "3.9.15"
  },
  "vscode": {
   "interpreter": {
    "hash": "4f6b0785c9551941f009af0c63508e51ec423cc283a24250d9b0fe46e7c89223"
   }
  }
 },
 "nbformat": 4,
 "nbformat_minor": 5
}
