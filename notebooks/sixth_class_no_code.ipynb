{
 "cells": [
  {
   "cell_type": "markdown",
   "id": "100ba883",
   "metadata": {},
   "source": [
    "# MPS states and their properties\n",
    "Matrix product states (MPS) are states in which \n",
    "\\begin{equation}\n",
    "c_{i_0,i_1\\cdots i_{N-2},i_{N-1}} = \\textrm{tTr}\\left(A^{i_1}A^{i_2}\\cdots A^{i_{N-2}}A^{i_{N-1}}\\right)\n",
    "\\end{equation} today we will study some of their properties and see how they help computing things. \n",
    "\n",
    "Let's start by trying to obtain a MPS for the random states we generated in last tutorials follwing the recipe that we have seen in books that is by performing iterated SVDs, \n",
    "![MPS_construction](../pictures/MPS.png \"from doi:10.1088/1751-8121/aa6dc3\")\n",
    "\n",
    "Start with $N=4$\n"
   ]
  }
 ],
 "metadata": {
  "kernelspec": {
   "display_name": "Python 3 (ipykernel)",
   "language": "python",
   "name": "python3"
  },
  "language_info": {
   "codemirror_mode": {
    "name": "ipython",
    "version": 3
   },
   "file_extension": ".py",
   "mimetype": "text/x-python",
   "name": "python",
   "nbconvert_exporter": "python",
   "pygments_lexer": "ipython3",
   "version": "3.9.13"
  }
 },
 "nbformat": 4,
 "nbformat_minor": 5
}
