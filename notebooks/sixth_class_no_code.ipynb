{
 "cells": [
  {
   "attachments": {},
   "cell_type": "markdown",
   "id": "100ba883",
   "metadata": {},
   "source": [
    "# MPS states and their properties\n",
    "Matrix product states (MPS) are states in which \n",
    "\\begin{equation}\n",
    "c_{i_0,i_1\\cdots i_{N-2},i_{N-1}} = \\textrm{tTr}\\left(A^{i_1}A^{i_2}\\cdots A^{i_{N-2}}A^{i_{N-1}}\\right)\n",
    "\\end{equation} \n",
    "today we will study some of their properties and see how they help computing things. \n",
    "Let's start by trying to obtain a MPS for the random states we generated in last tutorials follwing the recipe that we have seen in books that is by performing iterated SVDs, \n",
    "![MPS_construction](../pictures/MPS.png \"from doi:10.1088/1751-8121/aa6dc3\")\n",
    "\n",
    "Start with $N=4$\n"
   ]
  }
 ],
 "metadata": {
  "kernelspec": {
   "display_name": "Python 3",
   "language": "python",
   "name": "python3"
  },
  "language_info": {
   "codemirror_mode": {
    "name": "ipython",
    "version": 3
   },
   "file_extension": ".py",
   "mimetype": "text/x-python",
   "name": "python",
   "nbconvert_exporter": "python",
   "pygments_lexer": "ipython3",
   "version": "3.9.6 (default, Oct 18 2022, 12:41:40) \n[Clang 14.0.0 (clang-1400.0.29.202)]"
  },
  "vscode": {
   "interpreter": {
    "hash": "31f2aee4e71d21fbe5cf8b01ff0e069b9275f58929596ceb00d14d90e3e16cd6"
   }
  }
 },
 "nbformat": 4,
 "nbformat_minor": 5
}
