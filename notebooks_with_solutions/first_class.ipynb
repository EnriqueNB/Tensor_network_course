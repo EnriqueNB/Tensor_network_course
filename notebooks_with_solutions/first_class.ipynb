{
 "cells": [
  {
   "cell_type": "markdown",
   "id": "d951dd71",
   "metadata": {},
   "source": [
    "# The building blocks\n",
    "\n",
    "In this course we will be mainly concerned with the study of many-body quantum systems, systems made by many copies of individual consituentes.  Say e.g. spins $s=\\frac{1}{2}$. \n",
    "\n",
    "## Single spin\n",
    "In this specific case the states of a single constituent span a two dimensional complex Hilbert space. We can thus use a vector with two complex components\n",
    "$|\\phi\\rangle = c_0 |0\\rangle + c_1 |1\\rangle$\n"
   ]
  },
  {
   "cell_type": "markdown",
   "id": "6ce765a4",
   "metadata": {},
   "source": [
    "### E1 Random state\n",
    "Write a python code that uses the numpy random generator in order to create a random state of a spin one half. Store it as a column vector."
   ]
  },
  {
   "cell_type": "code",
   "execution_count": null,
   "id": "a700fd19",
   "metadata": {},
   "outputs": [],
   "source": [
    "import numpy as np\n",
    "c_0 =np.random.rand()+1j*np.random.rand()\n",
    "c_1 =np.random.rand()+1j*np.random.rand()\n",
    "phi = np.array([[c_0],[c_1]])\n",
    "print(phi)"
   ]
  },
  {
   "cell_type": "markdown",
   "id": "a27e80e6",
   "metadata": {},
   "source": [
    "### E2 Normalize your state\n",
    "In QM states are usually normalized, normalize the state you have created previously:\n",
    "$\\langle \\phi|\\phi\\rangle =1$\n",
    "\n",
    "(*Hint: use the numpy linalg norm function*) https://numpy.org/doc/stable/reference/generated/numpy.linalg.norm.html"
   ]
  },
  {
   "cell_type": "code",
   "execution_count": null,
   "id": "84e1ce73",
   "metadata": {},
   "outputs": [],
   "source": [
    "import scipy.linalg as LA\n",
    "print(LA.norm(phi))\n",
    "phi = phi/LA.norm(phi)\n",
    "print(LA.norm(phi))"
   ]
  },
  {
   "cell_type": "markdown",
   "id": "1fdcbb72",
   "metadata": {},
   "source": [
    "## Defining operators \n",
    "Once we have a state we can compute expectation value of operators. Remember operators need to be Hermitian. \n",
    "All Hermitian operators can be written as linear combinations of the basis of Hermitian operators. For a single spin 1/2 there are 4 operators in the basis $ 1\\equiv \\sigma_0, \\sigma_x \\equiv \\sigma_1, \\sigma_y \\equiv \\sigma_2, \\sigma_z \\equiv \\sigma_3$.\n",
    "They satisfy the algebra\n",
    "$\\sigma_i \\sigma_j = \\delta_{ij}+i \\epsilon_{ijk}\\sigma_k$\n",
    "\n",
    "with $\\epsilon_{ijk}$ the completely antisymmetric tensor with $\\epsilon_{012}=1$\n",
    "(In this notation summation over repeated indices is implied, called Einstein notation)\n",
    "\n"
   ]
  },
  {
   "cell_type": "code",
   "execution_count": null,
   "id": "a59d711d",
   "metadata": {},
   "outputs": [],
   "source": [
    "identity = np.eye(2)\n",
    "sigma_x = np.array([[0.,1.],[1.,0.]])\n",
    "sigma_y = np.array([[0.,-1.j],[1.j,0.]])\n",
    "sigma_z = np.array([[1.,0.],[0.,-1.]])\n",
    "print(identity)\n",
    "print(sigma_x)\n",
    "print(sigma_y)\n",
    "print(sigma_z)\n",
    "print(sigma_x@sigma_y)"
   ]
  },
  {
   "cell_type": "markdown",
   "id": "e2835a2d",
   "metadata": {},
   "source": [
    " ### E3 Construct operators from elements of the basis\n",
    " Write an arbitrary operator linear combination of the four above four opeartors using four complex random   coefficients\n",
    "$O = c_0 1 + c_i \\sigma_i$, normalize it in such a way that \n",
    "$c_i c_i^*=1$\n",
    " "
   ]
  },
  {
   "cell_type": "code",
   "execution_count": null,
   "id": "7749ce9d",
   "metadata": {},
   "outputs": [],
   "source": [
    "c = np.random.rand(4,1)\n",
    "c = c/LA.norm(c)\n",
    "print(LA.norm(c))\n",
    "print(c)\n",
    "operator =c[0]*identity + c[1]*sigma_x+c[2]*sigma_y+c[3]*sigma_z\n",
    "print(operator)"
   ]
  },
  {
   "cell_type": "markdown",
   "id": "47ff1af5",
   "metadata": {},
   "source": [
    "### E4 Find the components in a given basis\n",
    "Now from the kownledge of the operator $O$, reconstruct its components in the basis of the above operators. \n",
    "\n",
    "(*Hint: use the fact that Pauli operators are traceless, and they square to the identity*)"
   ]
  },
  {
   "cell_type": "code",
   "execution_count": null,
   "id": "eb5ad584",
   "metadata": {},
   "outputs": [],
   "source": [
    "d =np.zeros([4,1])+1j*np.zeros([4,1])\n",
    "d[0] = np.trace(operator)/2\n",
    "d[1] = np.trace(operator@sigma_x)/2\n",
    "d[2] = np.trace(operator@sigma_y)/2\n",
    "d[3] = np.trace(operator@sigma_z)/2\n",
    "print(d)"
   ]
  },
  {
   "cell_type": "markdown",
   "id": "de73e8be",
   "metadata": {},
   "source": [
    "### E5 Check Hermiticity of the operator\n",
    "Since we are interested in observable we want the operator to be Hermitian"
   ]
  },
  {
   "cell_type": "code",
   "execution_count": null,
   "id": "623ae4d5",
   "metadata": {},
   "outputs": [],
   "source": [
    "np.isclose(operator,operator.T.conj())"
   ]
  },
  {
   "cell_type": "markdown",
   "id": "bb8fa1e8",
   "metadata": {},
   "source": [
    "### E6 Computing expectation values\n",
    "\n",
    "Given the state $|\\phi \\rangle$ and the operator $O$, compute the expectation value $\\langle \\phi |O|\\phi \\rangle$, assuming a normalized state"
   ]
  },
  {
   "cell_type": "code",
   "execution_count": null,
   "id": "baf0cc81",
   "metadata": {},
   "outputs": [],
   "source": [
    "exp_O = phi.T.conj()@operator@phi\n",
    "print(exp_O)"
   ]
  },
  {
   "cell_type": "code",
   "execution_count": null,
   "id": "a4574f1e",
   "metadata": {},
   "outputs": [],
   "source": []
  },
  {
   "cell_type": "code",
   "execution_count": null,
   "id": "7fe70561",
   "metadata": {},
   "outputs": [],
   "source": [
    "(operator-operator.T.conj())"
   ]
  },
  {
   "cell_type": "markdown",
   "id": "7cc7e7b1",
   "metadata": {},
   "source": [
    "### E7 Changing basis to states and operators\n",
    "We can clearly change the basis to operators and states, for example we can re-express the above state and operator in the basis where $\\sigma_x$ is diagonal, and the matrix element of the new operator in the new state should be the same than the old one in the old state."
   ]
  },
  {
   "cell_type": "code",
   "execution_count": null,
   "id": "f323af6c",
   "metadata": {},
   "outputs": [],
   "source": [
    "U_x =np.array([[1,1],[1,-1]])/np.sqrt(2)\n",
    "print(U_x.T@sigma_x@U_x)\n",
    "phi_x =U_x.T@phi\n",
    "operator_x = U_x.T@operator@U_x\n",
    "print(phi_x.T.conj()@operator_x@phi_x)"
   ]
  },
  {
   "cell_type": "markdown",
   "id": "11fd4d62",
   "metadata": {},
   "source": [
    "## Two spins\n",
    "\n",
    "Here we have two different types of random states. A random state of two spins built from the random state of a single spin $|\\phi \\phi\\rangle =| \\phi\\rangle \\otimes  |\\phi\\rangle$, construct it below (*Hint: use the np.kron() function)"
   ]
  },
  {
   "cell_type": "code",
   "execution_count": null,
   "id": "9d62ebff",
   "metadata": {},
   "outputs": [],
   "source": [
    "c_0 =np.random.rand()+1j*np.random.rand()\n",
    "c_1 =np.random.rand()+1j*np.random.rand()\n",
    "phi_2 = np.array([[c_0],[c_1]])\n",
    "phi_2= phi_2/LA.norm(phi_2)\n",
    "phi_phi=np.kron(phi,phi_2)\n",
    "print(phi_phi)\n",
    "LA.norm(phi_phi)"
   ]
  },
  {
   "cell_type": "markdown",
   "id": "7c0f5763",
   "metadata": {},
   "source": [
    "Now we can compute the expectation value of different operators, for example we can compute the old operator on the first spin, and we should get the same number out $O \\otimes 1$"
   ]
  },
  {
   "cell_type": "code",
   "execution_count": null,
   "id": "ee72bca1",
   "metadata": {},
   "outputs": [],
   "source": [
    "operator_tensor_identity = np.kron(operator,np.eye(2))\n",
    "phi_phi.T.conj()@operator_tensor_identity@phi_phi\n"
   ]
  },
  {
   "cell_type": "markdown",
   "id": "e2720a2f",
   "metadata": {},
   "source": [
    "But we can compute the same operator on the other spin, $1 \\otimes O$"
   ]
  },
  {
   "cell_type": "code",
   "execution_count": null,
   "id": "28d7e08f",
   "metadata": {},
   "outputs": [],
   "source": [
    "identity_tensor_operator = np.kron(np.eye(2),operator)\n",
    "phi_phi.T.conj()@identity_tensor_operator@phi_phi"
   ]
  },
  {
   "cell_type": "code",
   "execution_count": null,
   "id": "4cc35c83",
   "metadata": {},
   "outputs": [],
   "source": []
  },
  {
   "cell_type": "markdown",
   "id": "e0f58165",
   "metadata": {},
   "source": [
    "Or multi-spin operators $O \\otimes O$ and their combinations"
   ]
  },
  {
   "cell_type": "code",
   "execution_count": null,
   "id": "c25c628f",
   "metadata": {},
   "outputs": [],
   "source": [
    "operator_tensor_operator = np.kron(operator,operator)\n",
    "phi_phi.T.conj()@operator_tensor_operator@phi_phi"
   ]
  },
  {
   "cell_type": "markdown",
   "id": "c1e9013d",
   "metadata": {},
   "source": [
    "### The cost of increasing the number of spins. \n",
    "We can now try to understand what is the cost of increasing the number of spins. From the computational point of view there are two kinds of cost. One is the cost of storing the state of the system in memory, typically called the *space* cost, the other is the cost entailed with performing the computation, typically called the *time* cost. \n",
    "You have learnt about these aspects in the lecture notes, here we take a pragramatic approach. \n",
    "We will first plot the cost *space* cost as a function of the number of constituents. \n"
   ]
  },
  {
   "cell_type": "code",
   "execution_count": null,
   "id": "3ea4a574",
   "metadata": {},
   "outputs": [],
   "source": [
    "space_cost=[]\n",
    "space_cost.append(np.size(phi_phi))\n",
    "phi_n_phi =np.kron(phi_phi,phi)\n",
    "space_cost.append(np.size(phi_n_phi))\n",
    "i_N =[4, 5, 6, 7, 8, 9, 10]\n",
    "for N in i_N:\n",
    "    phi_n_phi =np.kron(phi_n_phi,phi)\n",
    "    space_cost.append(np.size(phi_n_phi))\n",
    "\n",
    "plt.plot([2,3]+i_N,space_cost)\n",
    "plt.xlabel('N')\n",
    "plt.ylabel('Space cost')\n",
    "\n",
    "\n"
   ]
  },
  {
   "cell_type": "code",
   "execution_count": null,
   "id": "f32589f9",
   "metadata": {},
   "outputs": [],
   "source": [
    "We can also now compute the time it takes to compute the expectation value of a given observable\n"
   ]
  },
  {
   "cell_type": "code",
   "execution_count": null,
   "id": "7401b87f",
   "metadata": {},
   "outputs": [],
   "source": [
    "import time\n",
    "times_to_execute=[]\n",
    "\n",
    "operator_tensor_identity = np.kron(operator,np.eye(2))\n",
    "t1=time.time()\n",
    "phi_phi.T.conj()@operator_tensor_identity@phi_phi\n",
    "t2=time.time()\n",
    "times_to_execute.append(t2-t1)\n",
    "operator_tensor_many_identities = np.kron(operator_tensor_identity,np.eye(2))\n",
    "phi_n_phi =np.kron(phi_phi,phi)\n",
    "t1=time.time()\n",
    "phi_n_phi.T.conj()@operator_tensor_many_identities@phi_n_phi\n",
    "t2=time.time()\n",
    "times_to_execute.append(t2-t1)\n",
    "i_N =[4, 5, 6, 7, 8, 9, 10, 11, 12, 13]\n",
    "for N in i_N:\n",
    "    phi_n_phi =np.kron(phi_n_phi,phi)\n",
    "    operator_tensor_many_identities = np.kron(operator_tensor_many_identities,np.eye(2))\n",
    "    t1=time.time()\n",
    "    phi_n_phi.T.conj()@operator_tensor_many_identities@phi_n_phi\n",
    "    t2=time.time()\n",
    "    times_to_execute.append(t2-t1)\n",
    "\n",
    "plt.plot([2,3]+i_N,times_to_execute)\n",
    "plt.xlabel('N')\n",
    "plt.ylabel('Time cost')"
   ]
  },
  {
   "cell_type": "markdown",
   "id": "b8ff91ab",
   "metadata": {},
   "source": [
    "### Our first tensor network\n",
    "We have not used at all the fact that the sates we are dealing with are very special, in the sense that they are product state. In order to see this we can compute the connected correlation functions, that is the value of\n",
    "\n",
    "$\\langle O_1 O_2 \\rangle -\\langle O_1\\rangle \\langle O_2\\rangle$, we do it for the case of three spins, for simplicity"
   ]
  },
  {
   "cell_type": "code",
   "execution_count": null,
   "id": "a83af9a7",
   "metadata": {},
   "outputs": [],
   "source": [
    "phi_phi_phi = np.kron(phi_phi,phi)\n",
    "operator_tensor_identity_tensor_operator = np.kron(operator_tensor_identity,operator)\n",
    "O1_O2 = phi_phi_phi.T.conj()@operator_tensor_identity_tensor_operator @phi_phi_phi\n",
    "\n",
    "operator_tensor_identity_tensor_identiy = np.kron(operator_tensor_identity,np.eye(2))\n",
    "O1 =phi_phi_phi.T.conj()@operator_tensor_identity_tensor_identiy @phi_phi_phi\n",
    "identity_tensor_identity_tensor_operator =np.kron(np.eye(4),operator)\n",
    "O2= phi_phi_phi.T.conj()@identity_tensor_identity_tensor_operator@phi_phi_phi\n",
    "\n",
    "print(O1_O2-O1*O2)"
   ]
  },
  {
   "cell_type": "markdown",
   "id": "475d60b7",
   "metadata": {},
   "source": [
    "as seen in the previous explicit example that value always vanishes, as a consequence of the structure of the state.\n",
    "As a result\n",
    "$⟨𝑂_1𝑂_2⟩=⟨𝑂_1⟩⟨𝑂_2⟩$ for product states, leading to a huge simplification. Indeed we can now compute any arbitrary correlation function or operator by just multiplying the values of local operators. Rather than explicitly building our large tensor product state, we can just keep a list of individual product states, and use it to compute expectation values.\n",
    "\n",
    "Wrt to expectation of local operators these states always like pure state \n",
    "$\\rho =|\\phi\\rangle\\langle \\phi|$,\n",
    "such that local expectation values are given as expected as \n",
    "$\\langle O \\rangle = \\textrm{tr}(\\rho O) =\\langle \\phi |O |\\phi \\rangle$\n"
   ]
  },
  {
   "cell_type": "markdown",
   "id": "6c2a8548",
   "metadata": {},
   "source": [
    "## The generic multi-spin state\n",
    "We also have the case of a generic random state of the two spins. How do we get it? We can evolve any initial state of the Hilbert space of the two spins under the action of a random Hamiltonian for unit time. The only request is that the Hamiltonian is Hermitian, so rather than following the ideas of the previous section we just build a random $2^N \\times 2^N$ Hamiltonian, that is extensive and build the corresponding state.\n",
    "\n"
   ]
  },
  {
   "cell_type": "code",
   "execution_count": null,
   "id": "c1121d97",
   "metadata": {},
   "outputs": [],
   "source": [
    "import matplotlib.pyplot as plt\n",
    "for N in range(2,10,2):\n",
    "    print(N)\n",
    "    dim_h =2**N\n",
    "    ent_entropies=[]\n",
    "    #print(dim_h)\n",
    "    for _ in range(0,100):\n",
    "        init_state = np.zeros([dim_h,1])\n",
    "        init_state[0]=1.\n",
    "        random_h = np.array(np.random.rand(dim_h,dim_h)+1j*np.random.rand(dim_h,dim_h))\n",
    "        random_h = random_h+random_h.T.conj()\n",
    "        random_h = random_h/LA.norm(random_h)*N\n",
    "\n",
    "        random_unitary =LA.expm(-1j*random_h)\n",
    "        random_state=random_unitary@init_state\n",
    "        #print(LA.norm(random_state))\n",
    "        sqrt_reduced_density_matrix = np.reshape(random_state,[int(2**(N/2)),int(2**(N/2))])\n",
    "        _, ent_spectrum,_= LA.svd(sqrt_reduced_density_matrix)\n",
    "        ent_entropy = -np.dot(np.log(ent_spectrum),ent_spectrum)/np.log(2)\n",
    "        ent_entropies.append(ent_entropy)\n",
    "        \n",
    "    plt.plot(ent_entropies)\n",
    "    plt.xlabel('Realization')\n",
    "    plt.ylabel('Entanglement bi-partition')"
   ]
  },
  {
   "cell_type": "code",
   "execution_count": null,
   "id": "6309c5d5",
   "metadata": {},
   "outputs": [],
   "source": []
  },
  {
   "cell_type": "code",
   "execution_count": null,
   "id": "7948e9b6",
   "metadata": {},
   "outputs": [],
   "source": []
  },
  {
   "cell_type": "code",
   "execution_count": null,
   "id": "067e4d78",
   "metadata": {},
   "outputs": [],
   "source": []
  }
 ],
 "metadata": {
  "kernelspec": {
   "display_name": "Python 3",
   "language": "python",
   "name": "python3"
  },
  "language_info": {
   "codemirror_mode": {
    "name": "ipython",
    "version": 3
   },
   "file_extension": ".py",
   "mimetype": "text/x-python",
   "name": "python",
   "nbconvert_exporter": "python",
   "pygments_lexer": "ipython3",
   "version": "3.8.8"
  }
 },
 "nbformat": 4,
 "nbformat_minor": 5
}
