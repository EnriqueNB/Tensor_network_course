{
 "cells": [
  {
   "cell_type": "markdown",
   "id": "64d75328",
   "metadata": {},
   "source": [
    "# Playing with MPS\n",
    "Start by copying the part of the code that transforms a generic state to an MPS from the sixth class"
   ]
  },
  {
   "cell_type": "code",
   "execution_count": 1,
   "id": "fede8c8c",
   "metadata": {},
   "outputs": [],
   "source": [
    "import numpy as np \n",
    "import scipy.linalg as LA\n",
    "def generate_random_state(N):\n",
    "        dim_h =2**N\n",
    "        init_state = np.zeros([dim_h,1])\n",
    "        init_state[0]=1.\n",
    "        random_h = np.array(np.random.rand(dim_h,dim_h)+1j*np.random.rand(dim_h,dim_h))\n",
    "        random_h = random_h+random_h.T.conj()\n",
    "        random_h = random_h/LA.norm(random_h)*N\n",
    "\n",
    "        random_unitary =LA.expm(-1j*random_h)\n",
    "        random_state=random_unitary@init_state\n",
    "        return random_state\n",
    "    \n",
    "def compute_A_sigma_bulk(remaining_state,n,list_sigma):\n",
    "        remaining_spins= len(remaining_state.shape)\n",
    "        initial_shape =remaining_state.shape\n",
    "        if n == 0 :\n",
    "            #print('first')\n",
    "            first_size =remaining_state.shape[0]\n",
    "            second_size=np.prod(remaining_state.shape[1:])\n",
    "        else:\n",
    "            #print('bulk')\n",
    "            first_size =remaining_state.shape[0]\n",
    "            second_size=np.prod(remaining_state.shape[1:])\n",
    "            remaining_state_c =remaining_state.reshape(first_size,second_size)\n",
    "            first_size =np.prod(remaining_state.shape[0:2])\n",
    "            second_size=np.prod(remaining_state.shape[2:])\n",
    "            sigma_prev = list_sigma[n-1]\n",
    "            remaining_state = sigma_prev@remaining_state_c\n",
    "            remaining_state = remaining_state.reshape(initial_shape)\n",
    "            \n",
    "            \n",
    "            \n",
    "        remaining_state_matrix = remaining_state.reshape(\n",
    "            first_size,second_size)\n",
    "        \n",
    "        A,sigma,rest = LA.svd(remaining_state_matrix,full_matrices\n",
    "                             =False)\n",
    "        \n",
    "        chi=rest.shape[0]\n",
    "        sigma =np.diag(sigma)\n",
    "        if n == 0:\n",
    "            rest_tensor =rest.reshape([rest.shape[0]]\n",
    "                                  +list(remaining_state.shape[1:]))\n",
    "        else:\n",
    "            A =A.reshape(remaining_state.shape[0],remaining_state.shape[1],\n",
    "                     A.shape[1])\n",
    "            A = np.einsum('ij,jkl->ikl',LA.pinv(list_sigma[n-1]),A)\n",
    "            rest_tensor =rest.reshape([rest.shape[0]]+\n",
    "                                  list(remaining_state.shape[2:]))\n",
    "        \n",
    "        return A, sigma, rest_tensor\n",
    "        \n",
    "def state_reconstruct_einsum(list_A,list_sigma):\n",
    "    N =len(list_A)\n",
    "    avail_index = 'abcdefghlmnopqrstuvz'\n",
    "    first_piece = list_A_tensors[0]\n",
    "    for n in range(N-1):\n",
    "        if n ==0:\n",
    "            first_piece=np.einsum('ab,bd->ad',first_piece,list_sigma_tensors[n])\n",
    "        else: \n",
    "            #print(first_piece.shape)\n",
    "            #print(list_sigma_tensors[n].shape)\n",
    "            num_left_indices=len(first_piece.shape)\n",
    "            einsum_index=avail_index[0:num_left_indices]\n",
    "            einsum_index+=','+avail_index[num_left_indices-1:num_left_indices+1]\n",
    "            einsum_index+='->'+avail_index[0:num_left_indices-1]+avail_index[\n",
    "               num_left_indices]\n",
    "            #print(einsum_index)\n",
    "            first_piece=np.einsum(einsum_index,\n",
    "                                      first_piece,list_sigma_tensors[n])\n",
    "        print('contracting '+str(n))\n",
    "        num_left_indices=len(first_piece.shape)\n",
    "        einsum_index=avail_index[0:num_left_indices]\n",
    "        next_piece = list_A_tensors[n+1]\n",
    "        other_index=len(next_piece.shape)\n",
    "        einsum_index = einsum_index+','+avail_index[num_left_indices-1:\n",
    "                    num_left_indices+other_index-1]\n",
    "        einsum_index += '->'+avail_index[0:num_left_indices-1]+ avail_index[\n",
    "            num_left_indices:num_left_indices+other_index-1]\n",
    "        #print(einsum_index)\n",
    "        first_piece =np.einsum(einsum_index,first_piece,next_piece)    \n",
    "    return first_piece\n",
    "def state_reconstruct_matmult(list_A,list_sigma):\n",
    "    N =len(list_A)\n",
    "    #print(N)\n",
    "    list_d =[]\n",
    "    list_d.append(list_A[0].shape[1])\n",
    "    mat_left= list_A[0]\n",
    "    for n in range(1,N-1):\n",
    "        #print(n)\n",
    "        mat_left = mat_left@list_sigma[n-1]\n",
    "        mat_left = mat_left@list_A[n].reshape(list_A[n].shape[0],list_A[n].shape[1]*list_A[n].shape[2])\n",
    "        mat_left = mat_left.reshape(mat_left.shape[0]*list_A[n].shape[1],list_A[n].shape[2])\n",
    "        list_d.append(list_A[n].shape[1])\n",
    "    \n",
    "    mat_left = mat_left@list_sigma[N-2]\n",
    "    mat_left = mat_left@list_A[N-1]\n",
    "    list_d.append(list_A[N-1].shape[1])\n",
    "    mat_left = mat_left.reshape(list_d)\n",
    "    return mat_left\n",
    "\n",
    "\n",
    "def create_MPS(N,state):\n",
    "    remaining_state =state\n",
    "    list_A_tensors =[]\n",
    "    list_sigma_tensors =[]\n",
    "    for n in range(N-1):\n",
    "    #print(n)\n",
    "        A,sigma,rest=compute_A_sigma_bulk(remaining_state,n,list_sigma_tensors)\n",
    "    \n",
    "        remaining_state =rest\n",
    "    #print(rest.shape)\n",
    "        list_A_tensors.append(A)\n",
    "        list_sigma_tensors.append(sigma)\n",
    "\n",
    "    \n",
    "    list_A_tensors.append(rest)\n",
    "    return list_A_tensors, list_sigma_tensors"
   ]
  },
  {
   "cell_type": "markdown",
   "id": "23932a85",
   "metadata": {},
   "source": [
    "Now let start generating some interesting states and obtain their MPS decomposition. Let's first generate the $W$ state:  \n",
    "$$ |W  \\rangle =\\frac{1}{\\sqrt{N}}\\sum_{n=1}^{N} |0 \\cdots 0 1_n 0\\cdots 0\\rangle  $$"
   ]
  },
  {
   "cell_type": "code",
   "execution_count": 2,
   "id": "566bfc27",
   "metadata": {},
   "outputs": [
    {
     "name": "stdout",
     "output_type": "stream",
     "text": [
      "1.0\n"
     ]
    }
   ],
   "source": [
    "N=10\n",
    "d=2\n",
    "\n",
    "w_state = np.zeros(d**N)\n",
    "dimensions =[d]*N\n",
    "w_state = w_state.reshape(dimensions)\n",
    "for k in range(N):\n",
    "    vector =[int(0)]*N\n",
    "    vector[k]=int(1)\n",
    "    #print(vector)\n",
    "    w_state[tuple(vector)]=1.       \n",
    "\n",
    "\n",
    "#for k in range(d): \n",
    "#    for j in range(d):\n",
    "#         for l in range(d):\n",
    "#                for m in range(d):\n",
    "#                    print('[' + str(l)+','+str(j)+','+str(k)+','+str(m)+']')\n",
    "#                    print(w_state[m,l,j,k])\n",
    "\n",
    "w_state = w_state/np.sqrt(N)\n",
    "print(LA.norm(w_state.reshape(d**N)))\n"
   ]
  },
  {
   "cell_type": "markdown",
   "id": "640f20c6",
   "metadata": {},
   "source": [
    "Let' s transform it into an MPS using the function defined abvove"
   ]
  },
  {
   "cell_type": "code",
   "execution_count": 3,
   "id": "15065cdd",
   "metadata": {},
   "outputs": [
    {
     "data": {
      "text/plain": [
       "4.996003610813204e-16"
      ]
     },
     "execution_count": 3,
     "metadata": {},
     "output_type": "execute_result"
    }
   ],
   "source": [
    "list_A_tensors,list_sigma_tensors =create_MPS(N,w_state)\n",
    "recontructed_state_mat_mult = state_reconstruct_matmult(list_A_tensors,list_sigma_tensors)\n",
    "recontructed_state_mat_mult\n",
    "np.max(w_state-recontructed_state_mat_mult)"
   ]
  },
  {
   "cell_type": "markdown",
   "id": "0a23d25a",
   "metadata": {},
   "source": [
    "Let's have a look to the singular value of the $|W \\rangle $ state"
   ]
  },
  {
   "cell_type": "code",
   "execution_count": null,
   "id": "58519bc0",
   "metadata": {},
   "outputs": [],
   "source": [
    "cut_off =1.e-12\n",
    "for n in range(N-1):\n",
    "    eig_rdm =np.diag(list_sigma_tensors[n])\n",
    "    #print(eig_rdm)\n",
    "    mask_sl=np.greater_equal(eig_rdm,cut_off)\n",
    "    non_zero_eig= eig_rdm[mask_sl]\n",
    "    print(non_zero_eig)\n",
    "    print(np.sum(non_zero_eig**2))\n",
    "    "
   ]
  },
  {
   "cell_type": "markdown",
   "id": "0551fb7f",
   "metadata": {},
   "source": [
    "Now let's build the MPS for the state $WW$\n",
    "$$ |W W \\rangle =\\frac{1}{\\sqrt{N-1}}\\sum_{n=1}^{N-1} |0 \\cdots 0 1_n 1_{n+1} 0\\cdots 0\\rangle  $$"
   ]
  },
  {
   "cell_type": "code",
   "execution_count": 40,
   "id": "8c68ae99",
   "metadata": {},
   "outputs": [
    {
     "name": "stdout",
     "output_type": "stream",
     "text": [
      "0.9999999999999999\n"
     ]
    }
   ],
   "source": [
    "ww_state = np.zeros(d**N)\n",
    "dimensions =[d]*N\n",
    "ww_state = ww_state.reshape(dimensions)\n",
    "for k in range(N-1):\n",
    "    vector =[int(0)]*N\n",
    "    vector[k]=int(1)\n",
    "    vector[k+1]=int(1)\n",
    "    #print(vector)\n",
    "    ww_state[tuple(vector)]=1.       \n",
    "\n",
    "\n",
    "#for k in range(d): \n",
    "#    for j in range(d):\n",
    "#         for l in range(d):\n",
    "#                for m in range(d):\n",
    "#                    print('[' + str(l)+','+str(j)+','+str(k)+','+str(m)+']')\n",
    "#                    print(w_state[m,l,j,k])\n",
    "\n",
    "ww_state = ww_state/np.sqrt(N-1)\n",
    "print(LA.norm(ww_state.reshape(d**N)))\n"
   ]
  },
  {
   "cell_type": "code",
   "execution_count": 41,
   "id": "116cec68",
   "metadata": {},
   "outputs": [
    {
     "data": {
      "text/plain": [
       "2.7755575615628914e-16"
      ]
     },
     "execution_count": 41,
     "metadata": {},
     "output_type": "execute_result"
    }
   ],
   "source": [
    "list_A_tensors_ww,list_sigma_tensors_ww =create_MPS(N,ww_state)\n",
    "recontructed_state_mat_mult = state_reconstruct_matmult(list_A_tensors_ww,list_sigma_tensors_ww)\n",
    "np.max(ww_state-recontructed_state_mat_mult)"
   ]
  },
  {
   "cell_type": "code",
   "execution_count": null,
   "id": "c93df2bd",
   "metadata": {},
   "outputs": [],
   "source": [
    "cut_off =1.e-12\n",
    "for n in range(N-1):\n",
    "    eig_rdm =np.diag(list_sigma_tensors[n])\n",
    "    #print(eig_rdm)\n",
    "    mask_sl=np.greater_equal(eig_rdm,cut_off)\n",
    "    non_zero_eig= eig_rdm[mask_sl]\n",
    "    print(non_zero_eig)\n",
    "    print(np.sum(non_zero_eig**2))\n",
    "    "
   ]
  },
  {
   "cell_type": "markdown",
   "id": "c6026a31",
   "metadata": {},
   "source": [
    "Now define a function that performs the truncation on the MPS you have obtained"
   ]
  },
  {
   "cell_type": "code",
   "execution_count": 14,
   "id": "b88e923b",
   "metadata": {},
   "outputs": [
    {
     "name": "stdout",
     "output_type": "stream",
     "text": [
      "2\n",
      "4\n",
      "8\n",
      "16\n",
      "32\n",
      "16\n",
      "8\n",
      "4\n",
      "2\n"
     ]
    },
    {
     "name": "stderr",
     "output_type": "stream",
     "text": [
      "/home/luca/anaconda3/lib/python3.9/site-packages/numpy/lib/function_base.py:804: VisibleDeprecationWarning: Creating an ndarray from ragged nested sequences (which is a list-or-tuple of lists-or-tuples-or ndarrays with different lengths or shapes) is deprecated. If you meant to do this, you must specify 'dtype=object' when creating the ndarray.\n",
      "  return array(a, order=order, subok=subok, copy=True)\n"
     ]
    }
   ],
   "source": [
    "def truncate_mps(list_A,list_s,cut_off):\n",
    "    new_list_A =[]\n",
    "    new_list_s =[]\n",
    "    old_list_A =np.copy(list_A)\n",
    "    for k in range(len(list_A)-1):\n",
    "        eig_diag = np.diag(list_s[k])\n",
    "        mask_sl=np.greater_equal(np.abs(eig_diag),cut_off)\n",
    "        #print(k)\n",
    "        print (len(mask_sl))\n",
    "        if k==0:\n",
    "            new_list_A.append(old_list_A[k][:,mask_sl])\n",
    "            old_list_A[k+1]=list_A[k+1][mask_sl,:,:]\n",
    "        else:\n",
    "            new_list_A.append(old_list_A[k][:,:,mask_sl])\n",
    "            if k< N-2:\n",
    "                old_list_A[k+1] = old_list_A[k+1][mask_sl,:,:]\n",
    "            else:\n",
    "                old_list_A[k+1] = old_list_A[k+1][mask_sl,:]\n",
    "\n",
    "        new_list_s.append(list_s[k][np.ix_(mask_sl, mask_sl)])\n",
    "    \n",
    "    new_list_A.append(old_list_A[k+1])\n",
    "    return new_list_A, new_list_s\n",
    "\n",
    "cut_off =1.e-12\n",
    "new_list_A,new_list_sigma =truncate_mps(list_A_tensors,list_sigma_tensors,cut_off)"
   ]
  },
  {
   "cell_type": "code",
   "execution_count": 22,
   "id": "f44f6a5e",
   "metadata": {},
   "outputs": [
    {
     "data": {
      "text/plain": [
       "array([[0.77459667, 0.        ],\n",
       "       [0.        , 0.63245553]])"
      ]
     },
     "execution_count": 22,
     "metadata": {},
     "output_type": "execute_result"
    }
   ],
   "source": [
    "new_list_sigma[5]"
   ]
  },
  {
   "cell_type": "code",
   "execution_count": 20,
   "id": "5cc0f3c3",
   "metadata": {},
   "outputs": [
    {
     "data": {
      "text/plain": [
       "4.996003610813204e-16"
      ]
     },
     "execution_count": 20,
     "metadata": {},
     "output_type": "execute_result"
    }
   ],
   "source": [
    "recontructed_state_mat_mult = state_reconstruct_matmult(new_list_A,new_list_sigma)\n",
    "recontructed_state_mat_mult\n",
    "np.max(w_state-recontructed_state_mat_mult)"
   ]
  },
  {
   "cell_type": "markdown",
   "id": "43240f4c",
   "metadata": {},
   "source": [
    "# Matrix product operators\n",
    "\n",
    "Now let's define a vector of operators, $v^i_{a,b} = \\sigma^i_{a,b}$ where we select only a 2-dimensional subspace of the operator space, say $1, \\sigma_z$"
   ]
  },
  {
   "cell_type": "code",
   "execution_count": 36,
   "id": "bfc59279",
   "metadata": {},
   "outputs": [],
   "source": [
    "operators_vect =np.zeros([d,2,2])\n",
    "identity = np.eye(2)\n",
    "sigma_x = np.array([[0.,1.],[1.,0.]])\n",
    "sigma_y = np.array([[0.,-1.j],[1.j,0.]])\n",
    "sigma_z = np.array([[1.,0.],[0.,-1.]])\n",
    "operators_vect[0,:,:]=identity\n",
    "operators_vect[1,:,:]=sigma_z"
   ]
  },
  {
   "cell_type": "markdown",
   "id": "0d4b76c9",
   "metadata": {},
   "source": [
    "Now contract the first leg of the operator tensor with the physical leg of the MPS for the $WW$ state, what do you obtain? If you now change the operator space and put a $\\sigma_x$ instead of a $\\sigma_z$ what do you obtain? Now also consider that if you want to have a sum of operators without the normalization factor of your state, you need to re-normalize the state, what are the correct factors?"
   ]
  },
  {
   "cell_type": "code",
   "execution_count": 44,
   "id": "c8c719fb",
   "metadata": {},
   "outputs": [
    {
     "name": "stdout",
     "output_type": "stream",
     "text": [
      "(2, 2)\n",
      "(2, 2, 2)\n",
      "(2, 2, 2)\n",
      "(2, 2, 2)\n",
      "(2, 2, 2)\n",
      "(2, 2, 2)\n",
      "(2, 2, 2)\n",
      "(2, 2, 2)\n",
      "(2, 2, 2)\n",
      "2\n",
      "4\n",
      "8\n",
      "16\n",
      "32\n",
      "16\n",
      "8\n",
      "4\n",
      "2\n",
      "(2, 2)\n",
      "(2, 2, 3)\n",
      "(3, 2, 3)\n",
      "(3, 2, 3)\n",
      "(3, 2, 3)\n",
      "(3, 2, 3)\n",
      "(3, 2, 3)\n",
      "(3, 2, 3)\n",
      "(3, 2, 2)\n"
     ]
    }
   ],
   "source": [
    "def define_MPO_from_MPS_and_op_vect(operators_vect, list_A,list_sigma,normalization):\n",
    "    list_O =[]\n",
    "    N= len(list_A)\n",
    "    for n in range(N-1):\n",
    "            A_times_sigma = np.einsum('...j,jk->...k',list_A[n],list_sigma[n])\n",
    "            print(A_times_sigma.shape)\n",
    "            if n==0:\n",
    "                O = np.einsum('kr,kab->rab',A_times_sigma,operators_vect*normalization)\n",
    "            else:\n",
    "                O = np.einsum('lkr,kab->lrab',A_times_sigma,operators_vect)\n",
    "            \n",
    "            list_O.append(O)\n",
    "    list_O.append(np.einsum('lk,kab->lab',list_A[N-1],operators_vect))\n",
    "    return list_O\n",
    "    \n",
    "list_O_sigma_z = define_MPO_from_MPS_and_op_vect(operators_vect, new_list_A,new_list_sigma,np.sqrt(N))\n",
    "operators_vect[1,:,:]=sigma_x\n",
    "new_list_A_ww,new_list_sigma_ww =truncate_mps(list_A_tensors_ww,list_sigma_tensors_ww,cut_off)\n",
    "list_O_sigma_xx = define_MPO_from_MPS_and_op_vect(operators_vect, new_list_A_ww,new_list_sigma_ww,np.sqrt(N-1))\n"
   ]
  },
  {
   "cell_type": "markdown",
   "id": "e094a31e",
   "metadata": {},
   "source": [
    "Now we can put the two operators together by creating states on a local Hilbert space with dimension $3$, the state will be the sum of $W$ and $WW$ but on different physical states:\n",
    "$$ |W W \\rangle =-\\sum_{n=1}^{N-1} |0 \\cdots 0 1_n 1_{n+1} 0\\cdots 0\\rangle  +\\lambda \\sum_{n=1}^{N} |0 \\cdots 0 2_n 0 0\\cdots 0\\rangle  $$"
   ]
  },
  {
   "cell_type": "code",
   "execution_count": 55,
   "id": "99e5b426",
   "metadata": {},
   "outputs": [
    {
     "name": "stdout",
     "output_type": "stream",
     "text": [
      "3\n",
      "9\n",
      "27\n",
      "81\n",
      "243\n",
      "81\n",
      "27\n",
      "9\n",
      "3\n"
     ]
    }
   ],
   "source": [
    "d=3\n",
    "v_lambda =0.1\n",
    "ww_p_w_state = np.zeros(d**N)\n",
    "dimensions =[d]*N\n",
    "ww_p_w_state = ww_p_w_state.reshape(dimensions)\n",
    "for k in range(N-1):\n",
    "    vector =[int(0)]*N\n",
    "    vector[k]=int(1)\n",
    "    vector[k+1]=int(1)\n",
    "    #print(vector)\n",
    "    ww_p_w_state[tuple(vector)]=-1.  \n",
    "\n",
    "for k in range(N):\n",
    "    vector =[int(0)]*N\n",
    "    vector[k]=int(2)\n",
    "    ww_p_w_state[tuple(vector)]=v_lambda\n",
    "\n",
    "list_A_tensors_ww_p_w,list_sigma_tensors_ww_p_w =create_MPS(N,ww_p_w_state)\n",
    "recontructed_state_mat_mult = state_reconstruct_matmult(list_A_tensors_ww_p_w,list_sigma_tensors_ww_p_w)\n",
    "np.max(ww_p_w_state-recontructed_state_mat_mult)\n",
    "new_list_A_ww_p_w,new_list_sigma_ww_p_w =truncate_mps(list_A_tensors_ww_p_w,list_sigma_tensors_ww_p_w,cut_off)"
   ]
  },
  {
   "cell_type": "code",
   "execution_count": 75,
   "id": "4d9fd2e6",
   "metadata": {},
   "outputs": [
    {
     "name": "stdout",
     "output_type": "stream",
     "text": [
      "(3, 3)\n",
      "(3, 3, 3)\n",
      "(3, 3, 3)\n",
      "(3, 3, 3)\n",
      "(3, 3, 3)\n",
      "(3, 3, 3)\n",
      "(3, 3, 3)\n",
      "(3, 3, 3)\n",
      "(3, 3, 3)\n"
     ]
    }
   ],
   "source": [
    "operators_vect =np.zeros([d,2,2])\n",
    "operators_vect[0,:,:]=identity\n",
    "operators_vect[1,:,:]=sigma_x\n",
    "operators_vect[2,:,:]=sigma_z\n",
    "list_O_sigma_xx_p_z = define_MPO_from_MPS_and_op_vect(operators_vect, \n",
    "                                                      new_list_A_ww_p_w,new_list_sigma_ww_p_w,1)\n"
   ]
  },
  {
   "cell_type": "raw",
   "id": "2119c419",
   "metadata": {},
   "source": [
    "Here you see the advantage the bond dimension of the sum of the two MPOs defined earlier is still 3, (that is not always the case). Now we might want to check that the operator is the one we are interested in, let's copy the definition the Ising Hamiltonian from the second class, but let's remove the periodic boundary condition term, (the interaction between the first and the last spin)."
   ]
  },
  {
   "cell_type": "code",
   "execution_count": 56,
   "id": "d07a17a9",
   "metadata": {},
   "outputs": [],
   "source": [
    "def build_and_diagonalize_H(N,v_lambda):\n",
    "    identity = np.eye(2)\n",
    "    sigma_x = np.array([[0.,1.],[1.,0.]])\n",
    "    sigma_z = np.array([[1.,0.],[0.,-1.]])\n",
    "    H = -np.kron(sigma_x,sigma_x) + v_lambda*(np.kron(identity,sigma_z)+  np.kron(sigma_z,identity))\n",
    "    for n in range(3,N+1):\n",
    "        H = np.kron(H,np.eye(2)) + np.kron(np.eye(2**(n-2)),-np.kron(sigma_x,sigma_x)) + (\n",
    "        v_lambda*(np.kron(np.eye(2**(n-1)),sigma_z)))\n",
    "                                                                                                                                                  \n",
    "    eig_H,U_H =LA.eigh(H)\n",
    "    return H, eig_H, U_H"
   ]
  },
  {
   "cell_type": "code",
   "execution_count": 57,
   "id": "d4756f74",
   "metadata": {},
   "outputs": [],
   "source": [
    "H,_,_ = build_and_diagonalize_H(N,v_lambda)"
   ]
  },
  {
   "cell_type": "code",
   "execution_count": 93,
   "id": "17ec7cfd",
   "metadata": {},
   "outputs": [
    {
     "data": {
      "text/plain": [
       "1.3322676295501878e-15"
      ]
     },
     "execution_count": 93,
     "metadata": {},
     "output_type": "execute_result"
    }
   ],
   "source": [
    "def reconstruct_operator_from_MPO(list_O):\n",
    "    N=len(list_O)\n",
    "    op_left_o = list_O[0].transpose(1,2,0)\n",
    "    for k in range(N-2):\n",
    "        #print(k+1)\n",
    "\n",
    "        op_right =list_O[k+1]\n",
    "        #print(op_left_o.shape)\n",
    "        #print(op_right.shape)\n",
    "        op_left = (op_left_o.reshape(np.prod(op_left_o.shape[0:2]),op_left_o.shape[2])@\n",
    "                       op_right.reshape(op_right.shape[0],np.prod(op_right.shape[1:])))\n",
    "        op_left = op_left.reshape(op_left_o.shape[0],op_left_o.shape[1],\n",
    "                                  op_right.shape[1],op_right.shape[2],op_right.shape[3])\n",
    "        op_left = op_left.transpose(0,3,1,4,2)\n",
    "        op_left =op_left.reshape(op_left.shape[0]*op_left.shape[1],op_left.shape[2]*op_left.shape[3],op_left.shape[4])\n",
    "        op_left_o =op_left\n",
    "\n",
    "    op_right =list_O[N-1]\n",
    "    op_tot = (op_left_o.reshape(np.prod(op_left_o.shape[0:2]),op_left_o.shape[2])@\n",
    "              op_right.reshape(op_right.shape[0],np.prod(op_right.shape[1:])))\n",
    "    op_tot= op_tot.reshape(op_left_o.shape[0],op_left_o.shape[1],\n",
    "                                  op_right.shape[1],op_right.shape[2])\n",
    "    op_tot = op_tot.transpose(0,2,1,3)\n",
    "    op_tot =op_tot.reshape(op_tot.shape[0]*op_tot.shape[1],op_tot.shape[2]*op_tot.shape[3])\n",
    "\n",
    "    return op_tot\n",
    "\n",
    "H_reconstructed = reconstruct_operator_from_MPO(list_O_sigma_xx_p_z)\n",
    "np.max(H-H_reconstructed)"
   ]
  },
  {
   "cell_type": "code",
   "execution_count": null,
   "id": "d1b8a4e7",
   "metadata": {},
   "outputs": [],
   "source": []
  }
 ],
 "metadata": {
  "kernelspec": {
   "display_name": "Python 3 (ipykernel)",
   "language": "python",
   "name": "python3"
  },
  "language_info": {
   "codemirror_mode": {
    "name": "ipython",
    "version": 3
   },
   "file_extension": ".py",
   "mimetype": "text/x-python",
   "name": "python",
   "nbconvert_exporter": "python",
   "pygments_lexer": "ipython3",
   "version": "3.9.13"
  }
 },
 "nbformat": 4,
 "nbformat_minor": 5
}
