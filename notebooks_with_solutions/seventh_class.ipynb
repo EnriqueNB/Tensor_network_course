{
 "cells": [
  {
   "cell_type": "markdown",
   "id": "64d75328",
   "metadata": {},
   "source": [
    "# Playing with MPS\n",
    "Start by copying the part of the code that transforms a generic state to an MPS from the sixth class"
   ]
  },
  {
   "cell_type": "code",
   "execution_count": 1,
   "id": "fede8c8c",
   "metadata": {},
   "outputs": [],
   "source": [
    "import numpy as np \n",
    "import scipy.linalg as LA\n",
    "def generate_random_state(N):\n",
    "        dim_h =2**N\n",
    "        init_state = np.zeros([dim_h,1])\n",
    "        init_state[0]=1.\n",
    "        random_h = np.array(np.random.rand(dim_h,dim_h)+1j*np.random.rand(dim_h,dim_h))\n",
    "        random_h = random_h+random_h.T.conj()\n",
    "        random_h = random_h/LA.norm(random_h)*N\n",
    "\n",
    "        random_unitary =LA.expm(-1j*random_h)\n",
    "        random_state=random_unitary@init_state\n",
    "        return random_state\n",
    "    \n",
    "def compute_A_sigma_bulk(remaining_state,n,list_sigma):\n",
    "        remaining_spins= len(remaining_state.shape)\n",
    "        initial_shape =remaining_state.shape\n",
    "        if n == 0 :\n",
    "            #print('first')\n",
    "            first_size =remaining_state.shape[0]\n",
    "            second_size=np.prod(remaining_state.shape[1:])\n",
    "        else:\n",
    "            #print('bulk')\n",
    "            first_size =remaining_state.shape[0]\n",
    "            second_size=np.prod(remaining_state.shape[1:])\n",
    "            remaining_state_c =remaining_state.reshape(first_size,second_size)\n",
    "            first_size =np.prod(remaining_state.shape[0:2])\n",
    "            second_size=np.prod(remaining_state.shape[2:])\n",
    "            sigma_prev = list_sigma[n-1]\n",
    "            remaining_state = sigma_prev@remaining_state_c\n",
    "            remaining_state = remaining_state.reshape(initial_shape)\n",
    "            \n",
    "            \n",
    "            \n",
    "        remaining_state_matrix = remaining_state.reshape(\n",
    "            first_size,second_size)\n",
    "        \n",
    "        A,sigma,rest = LA.svd(remaining_state_matrix,full_matrices\n",
    "                             =False)\n",
    "        \n",
    "        chi=rest.shape[0]\n",
    "        sigma =np.diag(sigma)\n",
    "        if n == 0:\n",
    "            rest_tensor =rest.reshape([rest.shape[0]]\n",
    "                                  +list(remaining_state.shape[1:]))\n",
    "        else:\n",
    "            A =A.reshape(remaining_state.shape[0],remaining_state.shape[1],\n",
    "                     A.shape[1])\n",
    "            A = np.einsum('ij,jkl->ikl',LA.pinv(list_sigma[n-1]),A)\n",
    "            rest_tensor =rest.reshape([rest.shape[0]]+\n",
    "                                  list(remaining_state.shape[2:]))\n",
    "        \n",
    "        return A, sigma, rest_tensor\n",
    "        \n",
    "def state_reconstruct_einsum(list_A,list_sigma):\n",
    "    N =len(list_A)\n",
    "    avail_index = 'abcdefghlmnopqrstuvz'\n",
    "    first_piece = list_A_tensors[0]\n",
    "    for n in range(N-1):\n",
    "        if n ==0:\n",
    "            first_piece=np.einsum('ab,bd->ad',first_piece,list_sigma_tensors[n])\n",
    "        else: \n",
    "            #print(first_piece.shape)\n",
    "            #print(list_sigma_tensors[n].shape)\n",
    "            num_left_indices=len(first_piece.shape)\n",
    "            einsum_index=avail_index[0:num_left_indices]\n",
    "            einsum_index+=','+avail_index[num_left_indices-1:num_left_indices+1]\n",
    "            einsum_index+='->'+avail_index[0:num_left_indices-1]+avail_index[\n",
    "               num_left_indices]\n",
    "            #print(einsum_index)\n",
    "            first_piece=np.einsum(einsum_index,\n",
    "                                      first_piece,list_sigma_tensors[n])\n",
    "        print('contracting '+str(n))\n",
    "        num_left_indices=len(first_piece.shape)\n",
    "        einsum_index=avail_index[0:num_left_indices]\n",
    "        next_piece = list_A_tensors[n+1]\n",
    "        other_index=len(next_piece.shape)\n",
    "        einsum_index = einsum_index+','+avail_index[num_left_indices-1:\n",
    "                    num_left_indices+other_index-1]\n",
    "        einsum_index += '->'+avail_index[0:num_left_indices-1]+ avail_index[\n",
    "            num_left_indices:num_left_indices+other_index-1]\n",
    "        #print(einsum_index)\n",
    "        first_piece =np.einsum(einsum_index,first_piece,next_piece)    \n",
    "    return first_piece\n",
    "def state_reconstruct_matmult(list_A,list_sigma):\n",
    "    N =len(list_A)\n",
    "    #print(N)\n",
    "    list_d =[]\n",
    "    list_d.append(list_A[0].shape[1])\n",
    "    mat_left= list_A[0]\n",
    "    for n in range(1,N-1):\n",
    "        #print(n)\n",
    "        mat_left = mat_left@list_sigma[n-1]\n",
    "        mat_left = mat_left@list_A[n].reshape(list_A[n].shape[0],list_A[n].shape[1]*list_A[n].shape[2])\n",
    "        mat_left = mat_left.reshape(mat_left.shape[0]*list_A[n].shape[1],list_A[n].shape[2])\n",
    "        list_d.append(list_A[n].shape[1])\n",
    "    \n",
    "    mat_left = mat_left@list_sigma[N-2]\n",
    "    mat_left = mat_left@list_A[N-1]\n",
    "    list_d.append(list_A[N-1].shape[1])\n",
    "    mat_left = mat_left.reshape(list_d)\n",
    "    return mat_left\n",
    "\n",
    "\n",
    "def create_MPS(N,state):\n",
    "    remaining_state =state\n",
    "    list_A_tensors =[]\n",
    "    list_sigma_tensors =[]\n",
    "    for n in range(N-1):\n",
    "    #print(n)\n",
    "        A,sigma,rest=compute_A_sigma_bulk(remaining_state,n,list_sigma_tensors)\n",
    "    \n",
    "        remaining_state =rest\n",
    "    #print(rest.shape)\n",
    "        list_A_tensors.append(A)\n",
    "        list_sigma_tensors.append(sigma)\n",
    "\n",
    "    \n",
    "    list_A_tensors.append(rest)\n",
    "    return list_A_tensors, list_sigma_tensors"
   ]
  },
  {
   "cell_type": "markdown",
   "id": "fc72d2e0",
   "metadata": {},
   "source": [
    "Now let start generating some interesting states and obtain their MPS decomposition. Let's first generate the $W$ state:  \n",
    "$$ |W  \\rangle =\\frac{1}{\\sqrt{N}}\\sum_{n=1}^{N} |0 \\cdots 0 1_n 0\\cdots 0\\rangle  $$"
   ]
  },
  {
   "cell_type": "code",
   "execution_count": 2,
   "id": "566bfc27",
   "metadata": {},
   "outputs": [
    {
     "name": "stdout",
     "output_type": "stream",
     "text": [
      "1.0\n"
     ]
    }
   ],
   "source": [
    "N=10\n",
    "d=2\n",
    "\n",
    "w_state = np.zeros(d**N)\n",
    "dimensions =[d]*N\n",
    "w_state = w_state.reshape(dimensions)\n",
    "for k in range(N):\n",
    "    vector =[int(0)]*N\n",
    "    vector[k]=int(1)\n",
    "    #print(vector)\n",
    "    w_state[tuple(vector)]=1.       \n",
    "\n",
    "\n",
    "#for k in range(d): \n",
    "#    for j in range(d):\n",
    "#         for l in range(d):\n",
    "#                for m in range(d):\n",
    "#                    print('[' + str(l)+','+str(j)+','+str(k)+','+str(m)+']')\n",
    "#                    print(w_state[m,l,j,k])\n",
    "\n",
    "w_state = w_state/np.sqrt(N)\n",
    "print(LA.norm(w_state.reshape(d**N)))\n"
   ]
  },
  {
   "cell_type": "markdown",
   "id": "fbd5859c",
   "metadata": {},
   "source": [
    "Let' s transform it into an MPS using the function defined abvove"
   ]
  },
  {
   "cell_type": "code",
   "execution_count": null,
   "id": "5d61a0a4",
   "metadata": {},
   "outputs": [],
   "source": [
    "list_A_tensors,list_sigma_tensors =create_MPS(N,w_state)\n",
    "recontructed_state_mat_mult = state_reconstruct_matmult(list_A_tensors,list_sigma_tensors)\n",
    "recontructed_state_mat_mult\n",
    "np.max(w_state-recontructed_state_mat_mult)"
   ]
  },
  {
   "cell_type": "markdown",
   "id": "87c269c4",
   "metadata": {},
   "source": [
    "Let's have a look to the singular value of the $|W \\rangle $ state"
   ]
  },
  {
   "cell_type": "code",
   "execution_count": null,
   "id": "d466f184",
   "metadata": {},
   "outputs": [],
   "source": [
    "cut_off =1.e-12\n",
    "for n in range(N-1):\n",
    "    eig_rdm =np.diag(list_sigma_tensors[n])\n",
    "    #print(eig_rdm)\n",
    "    mask_sl=np.greater_equal(eig_rdm,cut_off)\n",
    "    non_zero_eig= eig_rdm[mask_sl]\n",
    "    print(non_zero_eig)\n",
    "    print(np.sum(non_zero_eig**2))\n",
    "    "
   ]
  },
  {
   "cell_type": "markdown",
   "id": "f9f4ca5c",
   "metadata": {},
   "source": [
    "Now let's build the MPS for the state $WW$\n",
    "$$ |W W \\rangle =\\frac{1}{\\sqrt{N-1}}\\sum_{n=1}^{N-1} |0 \\cdots 0 1_n 1_{n+1} 0\\cdots 0\\rangle  $$"
   ]
  },
  {
   "cell_type": "code",
   "execution_count": 3,
   "id": "308c4b4f",
   "metadata": {},
   "outputs": [
    {
     "name": "stdout",
     "output_type": "stream",
     "text": [
      "0.9999999999999999\n"
     ]
    }
   ],
   "source": [
    "ww_state = np.zeros(d**N)\n",
    "dimensions =[d]*N\n",
    "ww_state = ww_state.reshape(dimensions)\n",
    "for k in range(N-1):\n",
    "    vector =[int(0)]*N\n",
    "    vector[k]=int(1)\n",
    "    vector[k+1]=int(1)\n",
    "    #print(vector)\n",
    "    ww_state[tuple(vector)]=1.       \n",
    "\n",
    "\n",
    "#for k in range(d): \n",
    "#    for j in range(d):\n",
    "#         for l in range(d):\n",
    "#                for m in range(d):\n",
    "#                    print('[' + str(l)+','+str(j)+','+str(k)+','+str(m)+']')\n",
    "#                    print(w_state[m,l,j,k])\n",
    "\n",
    "ww_state = ww_state/np.sqrt(N-1)\n",
    "print(LA.norm(ww_state.reshape(d**N)))\n"
   ]
  },
  {
   "cell_type": "code",
   "execution_count": 4,
   "id": "47c24f3b",
   "metadata": {},
   "outputs": [
    {
     "data": {
      "text/plain": [
       "2.7755575615628914e-16"
      ]
     },
     "execution_count": 4,
     "metadata": {},
     "output_type": "execute_result"
    }
   ],
   "source": [
    "list_A_tensors,list_sigma_tensors =create_MPS(N,ww_state)\n",
    "recontructed_state_mat_mult = state_reconstruct_matmult(list_A_tensors,list_sigma_tensors)\n",
    "recontructed_state_mat_mult\n",
    "np.max(ww_state-recontructed_state_mat_mult)"
   ]
  },
  {
   "cell_type": "code",
   "execution_count": 6,
   "id": "a116a654",
   "metadata": {},
   "outputs": [
    {
     "name": "stdout",
     "output_type": "stream",
     "text": [
      "[0.94280904 0.33333333]\n",
      "1.0\n",
      "[0.8819171  0.33333333 0.33333333]\n",
      "1.0\n",
      "[0.81649658 0.47140452 0.33333333]\n",
      "0.9999999999999998\n",
      "[0.74535599 0.57735027 0.33333333]\n",
      "0.9999999999999998\n",
      "[0.66666667 0.66666667 0.33333333]\n",
      "0.9999999999999996\n",
      "[0.74535599 0.57735027 0.33333333]\n",
      "0.9999999999999996\n",
      "[0.81649658 0.47140452 0.33333333]\n",
      "0.9999999999999996\n",
      "[0.8819171  0.33333333 0.33333333]\n",
      "0.9999999999999994\n",
      "[0.94280904 0.33333333]\n",
      "0.9999999999999996\n"
     ]
    }
   ],
   "source": [
    "cut_off =1.e-12\n",
    "for n in range(N-1):\n",
    "    eig_rdm =np.diag(list_sigma_tensors[n])\n",
    "    #print(eig_rdm)\n",
    "    mask_sl=np.greater_equal(eig_rdm,cut_off)\n",
    "    non_zero_eig= eig_rdm[mask_sl]\n",
    "    print(non_zero_eig)\n",
    "    print(np.sum(non_zero_eig**2))\n",
    "    "
   ]
  },
  {
   "cell_type": "markdown",
   "id": "cdf5e12c",
   "metadata": {},
   "source": [
    "Now define a function that performs the truncation on the MPS you have obtained"
   ]
  },
  {
   "cell_type": "code",
   "execution_count": 8,
   "id": "79890e39",
   "metadata": {},
   "outputs": [
    {
     "name": "stdout",
     "output_type": "stream",
     "text": [
      "2\n",
      "4\n",
      "8\n",
      "16\n",
      "32\n",
      "16\n",
      "8\n",
      "4\n",
      "2\n"
     ]
    }
   ],
   "source": [
    "def truncate_mps(list_A,list_s,cut_off):\n",
    "    new_list_A =[]\n",
    "    new_list_s =[]\n",
    "    old_list_A =np.copy(list_A)\n",
    "    for k in range(len(list_A)-1):\n",
    "        eig_diag = np.diag(list_s[k])\n",
    "        mask_sl=np.greater_equal(np.abs(eig_diag),cut_off)\n",
    "        #print(k)\n",
    "        print (len(mask_sl))\n",
    "        if k==0:\n",
    "            new_list_A.append(old_list_A[k][:,mask_sl])\n",
    "            old_list_A[k+1]=list_A[k+1][mask_sl,:,:]\n",
    "        else:\n",
    "            new_list_A.append(old_list_A[k][:,:,mask_sl])\n",
    "            if k< N-2:\n",
    "                old_list_A[k+1] = old_list_A[k+1][mask_sl,:,:]\n",
    "            else:\n",
    "                old_list_A[k+1] = old_list_A[k+1][mask_sl,:]\n",
    "\n",
    "        new_list_s.append(list_s[k][mask_sl,mask_sl])\n",
    "    \n",
    "    new_list_A.append(old_list_A[k+1])\n",
    "    return new_list_A, new_list_s\n",
    "\n",
    "\n",
    "new_list_A,new_list_sigma =truncate_mps(list_A_tensors,list_sigma_tensors,cut_off)"
   ]
  },
  {
   "cell_type": "code",
   "execution_count": 14,
   "id": "c8fffbe6",
   "metadata": {},
   "outputs": [
    {
     "ename": "ValueError",
     "evalue": "cannot reshape array of size 6 into shape (12,3)",
     "output_type": "error",
     "traceback": [
      "\u001b[0;31m---------------------------------------------------------------------------\u001b[0m",
      "\u001b[0;31mValueError\u001b[0m                                Traceback (most recent call last)",
      "\u001b[0;32m/tmp/ipykernel_22479/2299254487.py\u001b[0m in \u001b[0;36m<module>\u001b[0;34m\u001b[0m\n\u001b[0;32m----> 1\u001b[0;31m \u001b[0mrecontructed_state_mat_mult\u001b[0m \u001b[0;34m=\u001b[0m \u001b[0mstate_reconstruct_matmult\u001b[0m\u001b[0;34m(\u001b[0m\u001b[0mnew_list_A\u001b[0m\u001b[0;34m,\u001b[0m\u001b[0mnew_list_sigma\u001b[0m\u001b[0;34m)\u001b[0m\u001b[0;34m\u001b[0m\u001b[0;34m\u001b[0m\u001b[0m\n\u001b[0m\u001b[1;32m      2\u001b[0m \u001b[0mrecontructed_state_mat_mult\u001b[0m\u001b[0;34m\u001b[0m\u001b[0;34m\u001b[0m\u001b[0m\n\u001b[1;32m      3\u001b[0m \u001b[0mnp\u001b[0m\u001b[0;34m.\u001b[0m\u001b[0mmax\u001b[0m\u001b[0;34m(\u001b[0m\u001b[0mww_state\u001b[0m\u001b[0;34m-\u001b[0m\u001b[0mrecontructed_state_mat_mult\u001b[0m\u001b[0;34m)\u001b[0m\u001b[0;34m\u001b[0m\u001b[0;34m\u001b[0m\u001b[0m\n",
      "\u001b[0;32m/tmp/ipykernel_22479/214982915.py\u001b[0m in \u001b[0;36mstate_reconstruct_matmult\u001b[0;34m(list_A, list_sigma)\u001b[0m\n\u001b[1;32m     93\u001b[0m         \u001b[0mmat_left\u001b[0m \u001b[0;34m=\u001b[0m \u001b[0mmat_left\u001b[0m\u001b[0;34m@\u001b[0m\u001b[0mlist_sigma\u001b[0m\u001b[0;34m[\u001b[0m\u001b[0mn\u001b[0m\u001b[0;34m-\u001b[0m\u001b[0;36m1\u001b[0m\u001b[0;34m]\u001b[0m\u001b[0;34m\u001b[0m\u001b[0;34m\u001b[0m\u001b[0m\n\u001b[1;32m     94\u001b[0m         \u001b[0mmat_left\u001b[0m \u001b[0;34m=\u001b[0m \u001b[0mmat_left\u001b[0m\u001b[0;34m@\u001b[0m\u001b[0mlist_A\u001b[0m\u001b[0;34m[\u001b[0m\u001b[0mn\u001b[0m\u001b[0;34m]\u001b[0m\u001b[0;34m.\u001b[0m\u001b[0mreshape\u001b[0m\u001b[0;34m(\u001b[0m\u001b[0mlist_A\u001b[0m\u001b[0;34m[\u001b[0m\u001b[0mn\u001b[0m\u001b[0;34m]\u001b[0m\u001b[0;34m.\u001b[0m\u001b[0mshape\u001b[0m\u001b[0;34m[\u001b[0m\u001b[0;36m0\u001b[0m\u001b[0;34m]\u001b[0m\u001b[0;34m,\u001b[0m\u001b[0mlist_A\u001b[0m\u001b[0;34m[\u001b[0m\u001b[0mn\u001b[0m\u001b[0;34m]\u001b[0m\u001b[0;34m.\u001b[0m\u001b[0mshape\u001b[0m\u001b[0;34m[\u001b[0m\u001b[0;36m1\u001b[0m\u001b[0;34m]\u001b[0m\u001b[0;34m*\u001b[0m\u001b[0mlist_A\u001b[0m\u001b[0;34m[\u001b[0m\u001b[0mn\u001b[0m\u001b[0;34m]\u001b[0m\u001b[0;34m.\u001b[0m\u001b[0mshape\u001b[0m\u001b[0;34m[\u001b[0m\u001b[0;36m2\u001b[0m\u001b[0;34m]\u001b[0m\u001b[0;34m)\u001b[0m\u001b[0;34m\u001b[0m\u001b[0;34m\u001b[0m\u001b[0m\n\u001b[0;32m---> 95\u001b[0;31m         \u001b[0mmat_left\u001b[0m \u001b[0;34m=\u001b[0m \u001b[0mmat_left\u001b[0m\u001b[0;34m.\u001b[0m\u001b[0mreshape\u001b[0m\u001b[0;34m(\u001b[0m\u001b[0mmat_left\u001b[0m\u001b[0;34m.\u001b[0m\u001b[0mshape\u001b[0m\u001b[0;34m[\u001b[0m\u001b[0;36m0\u001b[0m\u001b[0;34m]\u001b[0m\u001b[0;34m*\u001b[0m\u001b[0mlist_A\u001b[0m\u001b[0;34m[\u001b[0m\u001b[0mn\u001b[0m\u001b[0;34m]\u001b[0m\u001b[0;34m.\u001b[0m\u001b[0mshape\u001b[0m\u001b[0;34m[\u001b[0m\u001b[0;36m1\u001b[0m\u001b[0;34m]\u001b[0m\u001b[0;34m,\u001b[0m\u001b[0mlist_A\u001b[0m\u001b[0;34m[\u001b[0m\u001b[0mn\u001b[0m\u001b[0;34m]\u001b[0m\u001b[0;34m.\u001b[0m\u001b[0mshape\u001b[0m\u001b[0;34m[\u001b[0m\u001b[0;36m2\u001b[0m\u001b[0;34m]\u001b[0m\u001b[0;34m)\u001b[0m\u001b[0;34m\u001b[0m\u001b[0;34m\u001b[0m\u001b[0m\n\u001b[0m\u001b[1;32m     96\u001b[0m         \u001b[0mlist_d\u001b[0m\u001b[0;34m.\u001b[0m\u001b[0mappend\u001b[0m\u001b[0;34m(\u001b[0m\u001b[0mlist_A\u001b[0m\u001b[0;34m[\u001b[0m\u001b[0mn\u001b[0m\u001b[0;34m]\u001b[0m\u001b[0;34m.\u001b[0m\u001b[0mshape\u001b[0m\u001b[0;34m[\u001b[0m\u001b[0;36m1\u001b[0m\u001b[0;34m]\u001b[0m\u001b[0;34m)\u001b[0m\u001b[0;34m\u001b[0m\u001b[0;34m\u001b[0m\u001b[0m\n\u001b[1;32m     97\u001b[0m \u001b[0;34m\u001b[0m\u001b[0m\n",
      "\u001b[0;31mValueError\u001b[0m: cannot reshape array of size 6 into shape (12,3)"
     ]
    }
   ],
   "source": [
    "recontructed_state_mat_mult = state_reconstruct_matmult(new_list_A,new_list_sigma)\n",
    "recontructed_state_mat_mult\n",
    "np.max(ww_state-recontructed_state_mat_mult)"
   ]
  },
  {
   "cell_type": "markdown",
   "id": "9b5018a9",
   "metadata": {},
   "source": [
    "# Matrix product operators\n",
    "\n",
    "Now let's define a vector of operators, $v^i_{a,b} = \\sigma^i_{a,b}$ where we select only a 2-dimensional subspace of the operator space, say $1, \\sigma_x$"
   ]
  },
  {
   "cell_type": "code",
   "execution_count": 17,
   "id": "06ae5328",
   "metadata": {},
   "outputs": [],
   "source": [
    "operators_vect =np.zeros([4,2,2])\n",
    "identity = np.eye(2)\n",
    "sigma_x = np.array([[0.,1.],[1.,0.]])\n",
    "sigma_y = np.array([[0.,-1.j],[1.j,0.]])\n",
    "sigma_z = np.array([[1.,0.],[0.,-1.]])\n",
    "operators_vect[0,:,:]=identity\n",
    "operators_vect[1,:,:]=sigma_x"
   ]
  },
  {
   "cell_type": "markdown",
   "id": "47c546b9",
   "metadata": {},
   "source": [
    "Now contract the first leg of the operator tensor with the physical leg of the MPS for the $WW$ state, what do you obtain?"
   ]
  },
  {
   "cell_type": "code",
   "execution_count": null,
   "id": "84a6700b",
   "metadata": {},
   "outputs": [],
   "source": []
  }
 ],
 "metadata": {
  "kernelspec": {
   "display_name": "Python 3 (ipykernel)",
   "language": "python",
   "name": "python3"
  },
  "language_info": {
   "codemirror_mode": {
    "name": "ipython",
    "version": 3
   },
   "file_extension": ".py",
   "mimetype": "text/x-python",
   "name": "python",
   "nbconvert_exporter": "python",
   "pygments_lexer": "ipython3",
   "version": "3.9.13"
  }
 },
 "nbformat": 4,
 "nbformat_minor": 5
}
